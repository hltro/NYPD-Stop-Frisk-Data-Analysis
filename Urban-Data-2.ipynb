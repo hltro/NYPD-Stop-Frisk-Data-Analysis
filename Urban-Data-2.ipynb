{
  "cells": [
    {
      "cell_type": "markdown",
      "metadata": {
        "id": "bizarre-tonight"
      },
      "source": [
        "# Assignment 4"
      ],
      "id": "bizarre-tonight"
    },
    {
      "cell_type": "markdown",
      "metadata": {
        "id": "patent-china"
      },
      "source": [
        "**In this assignment, we will conclude our analysis of whether the stop and frisk policy was racially discriminatory, but from a very different angle than our previous mapping analysis. We will rely heavily on logistic regression and regularized regression, as discussed in class.**\n"
      ],
      "id": "patent-china"
    },
    {
      "cell_type": "markdown",
      "metadata": {
        "id": "lPy-JHVGfPsF"
      },
      "source": [
        "## Data processing (5 points)\n",
        "\n",
        "**First we need to do some data processing for consistency with previous of analysis of stop_and_frisk data. Read in the CSV file \"sqf_sample.csv\" and filter for stops between 2009 and 2013 (including both 2009 and 2013 in your sample). Filter for stops of white, Black, Hispanic, and Asian pedestrians using the suspect_race column. (5 points)**\n"
      ],
      "id": "lPy-JHVGfPsF"
    },
    {
      "cell_type": "code",
      "execution_count": 1,
      "metadata": {
        "id": "BWN36qCfactf"
      },
      "outputs": [],
      "source": [
        "import pandas as pd \n",
        "df=pd.read_csv('/content/sqf_sample.csv')"
      ],
      "id": "BWN36qCfactf"
    },
    {
      "cell_type": "code",
      "source": [
        "# Filter by year\n",
        "df = df[(df['year'] >= 2009) & (df['year'] <= 2013)]\n",
        "\n",
        "# Filter by race\n",
        "df = df[df['suspect_race'].isin([\"white\", \"black\", \"hispanic\", \"asian\"])]\n"
      ],
      "metadata": {
        "id": "9gKOia88cHzZ"
      },
      "id": "9gKOia88cHzZ",
      "execution_count": 2,
      "outputs": []
    },
    {
      "cell_type": "markdown",
      "metadata": {
        "id": "ranging-edition"
      },
      "source": [
        "## Using regression to analyze the frisk decision. (30 points)"
      ],
      "id": "ranging-edition"
    },
    {
      "cell_type": "markdown",
      "metadata": {
        "id": "canadian-signature"
      },
      "source": [
        "**We will start by testing for racial discrimination in the decision to conduct a frisk after a stop: ie, whether minority pedestrians are more likely to be frisked (patted down for weapons) after they are stopped, controlling for other factors.**\n",
        "\n",
        "a.Using statsmodels, perform a logistic regression, using `frisked` as the dependent variable and `suspect_race` as the independent variable, to assess how the probability of being frisked after a stop varies by race. Write a few sentences interpreting the results, making sure to answer the following questions: which value of suspect_race is omitted from the regression coefficients, even though it appears in the data? Which race groups are most likely to be frisked after being stopped? How do you interpret the magnitude and sign of the coefficients? How do you interpret their statistical significance and confidence intervals? (5 points)"
      ],
      "id": "canadian-signature"
    },
    {
      "cell_type": "code",
      "source": [
        "import statsmodels.api as sm"
      ],
      "metadata": {
        "id": "XWsnpJ_EAcUd"
      },
      "id": "XWsnpJ_EAcUd",
      "execution_count": 3,
      "outputs": []
    },
    {
      "cell_type": "code",
      "execution_count": 4,
      "metadata": {
        "colab": {
          "base_uri": "https://localhost:8080/",
          "height": 342
        },
        "id": "_nH3mUK5actf",
        "outputId": "d49dd907-9b28-494e-af7c-e647d37184ac"
      },
      "outputs": [
        {
          "output_type": "stream",
          "name": "stdout",
          "text": [
            "Optimization terminated successfully.\n",
            "         Current function value: 0.681382\n",
            "         Iterations 4\n"
          ]
        },
        {
          "output_type": "execute_result",
          "data": {
            "text/plain": [
              "<class 'statsmodels.iolib.summary.Summary'>\n",
              "\"\"\"\n",
              "                           Logit Regression Results                           \n",
              "==============================================================================\n",
              "Dep. Variable:                frisked   No. Observations:               249802\n",
              "Model:                          Logit   Df Residuals:                   249798\n",
              "Method:                           MLE   Df Model:                            3\n",
              "Date:                Thu, 03 Nov 2022   Pseudo R-squ.:                0.005311\n",
              "Time:                        00:23:58   Log-Likelihood:            -1.7021e+05\n",
              "converged:                       True   LL-Null:                   -1.7112e+05\n",
              "Covariance Type:            nonrobust   LLR p-value:                     0.000\n",
              "===============================================================================================\n",
              "                                  coef    std err          z      P>|z|      [0.025      0.975]\n",
              "-----------------------------------------------------------------------------------------------\n",
              "Intercept                      -0.0900      0.022     -4.161      0.000      -0.132      -0.048\n",
              "C(suspect_race)[T.black]        0.4048      0.022     18.128      0.000       0.361       0.449\n",
              "C(suspect_race)[T.hispanic]     0.4267      0.023     18.726      0.000       0.382       0.471\n",
              "C(suspect_race)[T.white]       -0.1219      0.025     -4.834      0.000      -0.171      -0.072\n",
              "===============================================================================================\n",
              "\"\"\""
            ],
            "text/html": [
              "<table class=\"simpletable\">\n",
              "<caption>Logit Regression Results</caption>\n",
              "<tr>\n",
              "  <th>Dep. Variable:</th>        <td>frisked</td>     <th>  No. Observations:  </th>   <td>249802</td>   \n",
              "</tr>\n",
              "<tr>\n",
              "  <th>Model:</th>                 <td>Logit</td>      <th>  Df Residuals:      </th>   <td>249798</td>   \n",
              "</tr>\n",
              "<tr>\n",
              "  <th>Method:</th>                 <td>MLE</td>       <th>  Df Model:          </th>   <td>     3</td>   \n",
              "</tr>\n",
              "<tr>\n",
              "  <th>Date:</th>            <td>Thu, 03 Nov 2022</td> <th>  Pseudo R-squ.:     </th>  <td>0.005311</td>  \n",
              "</tr>\n",
              "<tr>\n",
              "  <th>Time:</th>                <td>00:23:58</td>     <th>  Log-Likelihood:    </th> <td>-1.7021e+05</td>\n",
              "</tr>\n",
              "<tr>\n",
              "  <th>converged:</th>             <td>True</td>       <th>  LL-Null:           </th> <td>-1.7112e+05</td>\n",
              "</tr>\n",
              "<tr>\n",
              "  <th>Covariance Type:</th>     <td>nonrobust</td>    <th>  LLR p-value:       </th>   <td> 0.000</td>   \n",
              "</tr>\n",
              "</table>\n",
              "<table class=\"simpletable\">\n",
              "<tr>\n",
              "               <td></td>                  <th>coef</th>     <th>std err</th>      <th>z</th>      <th>P>|z|</th>  <th>[0.025</th>    <th>0.975]</th>  \n",
              "</tr>\n",
              "<tr>\n",
              "  <th>Intercept</th>                   <td>   -0.0900</td> <td>    0.022</td> <td>   -4.161</td> <td> 0.000</td> <td>   -0.132</td> <td>   -0.048</td>\n",
              "</tr>\n",
              "<tr>\n",
              "  <th>C(suspect_race)[T.black]</th>    <td>    0.4048</td> <td>    0.022</td> <td>   18.128</td> <td> 0.000</td> <td>    0.361</td> <td>    0.449</td>\n",
              "</tr>\n",
              "<tr>\n",
              "  <th>C(suspect_race)[T.hispanic]</th> <td>    0.4267</td> <td>    0.023</td> <td>   18.726</td> <td> 0.000</td> <td>    0.382</td> <td>    0.471</td>\n",
              "</tr>\n",
              "<tr>\n",
              "  <th>C(suspect_race)[T.white]</th>    <td>   -0.1219</td> <td>    0.025</td> <td>   -4.834</td> <td> 0.000</td> <td>   -0.171</td> <td>   -0.072</td>\n",
              "</tr>\n",
              "</table>"
            ]
          },
          "metadata": {},
          "execution_count": 4
        }
      ],
      "source": [
        "fitted_model = sm.Logit.from_formula('frisked ~ C(suspect_race)', data=df).fit()\n",
        "fitted_model.summary()"
      ],
      "id": "_nH3mUK5actf"
    },
    {
      "cell_type": "markdown",
      "metadata": {
        "id": "m8WYaqSvWoRI"
      },
      "source": [
        "1. \"Asian\" is omitted from the regression coefficients, even though it appeared in data.\n",
        "\n",
        "2. Hispanic suspects are most likely to be frisked after being stoped, with a coefficient of 0.4614.\n",
        "\n",
        "3. The coefficients for \"black\" and \"hispanic\" values of the dependent variable are positive, with similar maginitude close to 0.4, which is considerably big. This means that a suspect is black or hispanic, the odds of him/her getting firsked is a lot more higher. On the other hand, the coefficient of \"white\" is negative with a relatively small maginitude. This means that if a suspect is white, the odds of him/her getting frisked is slightly lower. \n",
        "\n",
        "4. All three (\"white\", \"black\", \"hispanic\") coefficients are statistically significant, as their p-value are all less than 0.05. The 95% confidence interval of all coefficients are all narrow, which agree with the small p-value. None of them overlap 0, which means that the dependent variable are likely to have an association with those values of the independent varaible.Based on the large sample size and the long observation timeline, the results are reasonable and reliable."
      ],
      "id": "m8WYaqSvWoRI"
    },
    {
      "cell_type": "markdown",
      "metadata": {
        "id": "earned-mainstream"
      },
      "source": [
        "**b. Now perform a linear regression instead of a logistic regression using the same formula. How is the interpretation of the coefficients similar or different in the two regressions? What are the advantages of each? (5 points)**"
      ],
      "id": "earned-mainstream"
    },
    {
      "cell_type": "code",
      "execution_count": 5,
      "metadata": {
        "colab": {
          "base_uri": "https://localhost:8080/",
          "height": 487
        },
        "id": "cPbtbXKkactg",
        "outputId": "6bbc7d4c-cfcd-4150-b5f0-8f5c30c02c26"
      },
      "outputs": [
        {
          "output_type": "execute_result",
          "data": {
            "text/plain": [
              "<class 'statsmodels.iolib.summary.Summary'>\n",
              "\"\"\"\n",
              "                            OLS Regression Results                            \n",
              "==============================================================================\n",
              "Dep. Variable:                frisked   R-squared:                       0.007\n",
              "Model:                            OLS   Adj. R-squared:                  0.007\n",
              "Method:                 Least Squares   F-statistic:                     615.8\n",
              "Date:                Thu, 03 Nov 2022   Prob (F-statistic):               0.00\n",
              "Time:                        00:23:59   Log-Likelihood:            -1.7834e+05\n",
              "No. Observations:              249802   AIC:                         3.567e+05\n",
              "Df Residuals:                  249798   BIC:                         3.567e+05\n",
              "Df Model:                           3                                         \n",
              "Covariance Type:            nonrobust                                         \n",
              "===============================================================================================\n",
              "                                  coef    std err          t      P>|t|      [0.025      0.975]\n",
              "-----------------------------------------------------------------------------------------------\n",
              "Intercept                       0.4775      0.005     89.395      0.000       0.467       0.488\n",
              "C(suspect_race)[T.black]        0.1005      0.006     18.256      0.000       0.090       0.111\n",
              "C(suspect_race)[T.hispanic]     0.1059      0.006     18.850      0.000       0.095       0.117\n",
              "C(suspect_race)[T.white]       -0.0303      0.006     -4.873      0.000      -0.042      -0.018\n",
              "==============================================================================\n",
              "Omnibus:                   904686.798   Durbin-Watson:                   1.995\n",
              "Prob(Omnibus):                  0.000   Jarque-Bera (JB):            40481.509\n",
              "Skew:                          -0.257   Prob(JB):                         0.00\n",
              "Kurtosis:                       1.096   Cond. No.                         13.2\n",
              "==============================================================================\n",
              "\n",
              "Notes:\n",
              "[1] Standard Errors assume that the covariance matrix of the errors is correctly specified.\n",
              "\"\"\""
            ],
            "text/html": [
              "<table class=\"simpletable\">\n",
              "<caption>OLS Regression Results</caption>\n",
              "<tr>\n",
              "  <th>Dep. Variable:</th>         <td>frisked</td>     <th>  R-squared:         </th>  <td>   0.007</td>  \n",
              "</tr>\n",
              "<tr>\n",
              "  <th>Model:</th>                   <td>OLS</td>       <th>  Adj. R-squared:    </th>  <td>   0.007</td>  \n",
              "</tr>\n",
              "<tr>\n",
              "  <th>Method:</th>             <td>Least Squares</td>  <th>  F-statistic:       </th>  <td>   615.8</td>  \n",
              "</tr>\n",
              "<tr>\n",
              "  <th>Date:</th>             <td>Thu, 03 Nov 2022</td> <th>  Prob (F-statistic):</th>   <td>  0.00</td>   \n",
              "</tr>\n",
              "<tr>\n",
              "  <th>Time:</th>                 <td>00:23:59</td>     <th>  Log-Likelihood:    </th> <td>-1.7834e+05</td>\n",
              "</tr>\n",
              "<tr>\n",
              "  <th>No. Observations:</th>      <td>249802</td>      <th>  AIC:               </th>  <td>3.567e+05</td> \n",
              "</tr>\n",
              "<tr>\n",
              "  <th>Df Residuals:</th>          <td>249798</td>      <th>  BIC:               </th>  <td>3.567e+05</td> \n",
              "</tr>\n",
              "<tr>\n",
              "  <th>Df Model:</th>              <td>     3</td>      <th>                     </th>      <td> </td>     \n",
              "</tr>\n",
              "<tr>\n",
              "  <th>Covariance Type:</th>      <td>nonrobust</td>    <th>                     </th>      <td> </td>     \n",
              "</tr>\n",
              "</table>\n",
              "<table class=\"simpletable\">\n",
              "<tr>\n",
              "               <td></td>                  <th>coef</th>     <th>std err</th>      <th>t</th>      <th>P>|t|</th>  <th>[0.025</th>    <th>0.975]</th>  \n",
              "</tr>\n",
              "<tr>\n",
              "  <th>Intercept</th>                   <td>    0.4775</td> <td>    0.005</td> <td>   89.395</td> <td> 0.000</td> <td>    0.467</td> <td>    0.488</td>\n",
              "</tr>\n",
              "<tr>\n",
              "  <th>C(suspect_race)[T.black]</th>    <td>    0.1005</td> <td>    0.006</td> <td>   18.256</td> <td> 0.000</td> <td>    0.090</td> <td>    0.111</td>\n",
              "</tr>\n",
              "<tr>\n",
              "  <th>C(suspect_race)[T.hispanic]</th> <td>    0.1059</td> <td>    0.006</td> <td>   18.850</td> <td> 0.000</td> <td>    0.095</td> <td>    0.117</td>\n",
              "</tr>\n",
              "<tr>\n",
              "  <th>C(suspect_race)[T.white]</th>    <td>   -0.0303</td> <td>    0.006</td> <td>   -4.873</td> <td> 0.000</td> <td>   -0.042</td> <td>   -0.018</td>\n",
              "</tr>\n",
              "</table>\n",
              "<table class=\"simpletable\">\n",
              "<tr>\n",
              "  <th>Omnibus:</th>       <td>904686.798</td> <th>  Durbin-Watson:     </th> <td>   1.995</td> \n",
              "</tr>\n",
              "<tr>\n",
              "  <th>Prob(Omnibus):</th>   <td> 0.000</td>   <th>  Jarque-Bera (JB):  </th> <td>40481.509</td>\n",
              "</tr>\n",
              "<tr>\n",
              "  <th>Skew:</th>            <td>-0.257</td>   <th>  Prob(JB):          </th> <td>    0.00</td> \n",
              "</tr>\n",
              "<tr>\n",
              "  <th>Kurtosis:</th>        <td> 1.096</td>   <th>  Cond. No.          </th> <td>    13.2</td> \n",
              "</tr>\n",
              "</table><br/><br/>Notes:<br/>[1] Standard Errors assume that the covariance matrix of the errors is correctly specified."
            ]
          },
          "metadata": {},
          "execution_count": 5
        }
      ],
      "source": [
        "fitted_model = sm.OLS.from_formula('frisked ~ C(suspect_race)', data=df).fit()\n",
        "fitted_model.summary()"
      ],
      "id": "cPbtbXKkactg"
    },
    {
      "cell_type": "markdown",
      "metadata": {
        "id": "rgk3tioqWpJg"
      },
      "source": [
        "1. The interpretation of the signs of coefficients of linear regression is similar to that of logistic regression in that: positive coefficients indicate that a variable is associated with greater values of the output, and negative coefficients indicate that a variable is associated with smaller values. Both \"black\" and \"hispanic\" are positively correlated with \"frisked\", and \"white\" is negatively correclated with \"frisked\". The interpretation of coefficients is slightly different. For linear regression, with a unit increase of independent variable, the dependent variable increases the amount of the coefficient. \n",
        "\n",
        "2. Linear regression treats the depedent variable as a continuous value, while logistic regression treats the dependent variable as a binary value (0 or 1). The logistic regression is better when comparing different groups based on a categorical outcome, while the linear regression is better when observing how a set of independent features correlate to an outcome. In this case, the logistic regression would be a better choice because being frisked or not is a binary outcome."
      ],
      "id": "rgk3tioqWpJg"
    },
    {
      "cell_type": "markdown",
      "metadata": {
        "id": "constitutional-place"
      },
      "source": [
        "**c. The regression using only race as an independent variable is a good starting point, but it does not control for any other variables. What other variables do you think are important to control for, and why?  (3 points)**"
      ],
      "id": "constitutional-place"
    },
    {
      "cell_type": "markdown",
      "source": [
        "\n",
        "Some other variables worth considering: \n",
        "\n",
        "suspect_sex - men are thought to be more violent and more likely to carry weapons\n",
        "\n",
        "suspect_age - younger suspects are more likely to carry weapons\n",
        "\n",
        "suspect_build / supsect_height - heavier/bigger suspects look more threatening\n",
        "\n",
        "time / date - the time at which the suspect is stopped can affect the possibility of them being frisked\n",
        "\n",
        "location_housing / precinct - the neighborhood in which the suspect was found could also affect the result, since police are more careful with dangerous neighborhoods"
      ],
      "metadata": {
        "id": "RwsSgNq7tUGa"
      },
      "id": "RwsSgNq7tUGa"
    },
    {
      "cell_type": "markdown",
      "metadata": {
        "id": "assumed-employment"
      },
      "source": [
        "**d. Run a logistic regression where you control for both race and for the \"precinct\" variable, which encodes the police precinct in which the stop occurred. Make sure to control for precinct as a categorical, not a numerical, variable, by writing it as C(precinct) in the regression formula - why is this important to do?**\n",
        "\n",
        "How do the race coefficients change, and what does that mean? How does the interpretation of this regression differ from the regression in which you only control for race? Make one argument in favor of reporting results controlling for location, and one argument against it. (5 points) "
      ],
      "id": "assumed-employment"
    },
    {
      "cell_type": "code",
      "execution_count": 6,
      "metadata": {
        "id": "j7Jy6XAWacth",
        "colab": {
          "base_uri": "https://localhost:8080/",
          "height": 1000
        },
        "outputId": "6d92ff15-90b5-45dc-b41b-9fd486d02482"
      },
      "outputs": [
        {
          "output_type": "stream",
          "name": "stdout",
          "text": [
            "Optimization terminated successfully.\n",
            "         Current function value: 0.660162\n",
            "         Iterations 5\n"
          ]
        },
        {
          "output_type": "execute_result",
          "data": {
            "text/plain": [
              "<class 'statsmodels.iolib.summary.Summary'>\n",
              "\"\"\"\n",
              "                           Logit Regression Results                           \n",
              "==============================================================================\n",
              "Dep. Variable:                frisked   No. Observations:               249802\n",
              "Model:                          Logit   Df Residuals:                   249722\n",
              "Method:                           MLE   Df Model:                           79\n",
              "Date:                Thu, 03 Nov 2022   Pseudo R-squ.:                 0.03629\n",
              "Time:                        00:24:09   Log-Likelihood:            -1.6491e+05\n",
              "converged:                       True   LL-Null:                   -1.7112e+05\n",
              "Covariance Type:            nonrobust   LLR p-value:                     0.000\n",
              "===============================================================================================\n",
              "                                  coef    std err          z      P>|z|      [0.025      0.975]\n",
              "-----------------------------------------------------------------------------------------------\n",
              "Intercept                      -0.6489      0.061    -10.635      0.000      -0.769      -0.529\n",
              "C(suspect_race)[T.black]        0.4578      0.024     18.849      0.000       0.410       0.505\n",
              "C(suspect_race)[T.hispanic]     0.3101      0.024     12.719      0.000       0.262       0.358\n",
              "C(suspect_race)[T.white]        0.0305      0.027      1.134      0.257      -0.022       0.083\n",
              "C(precinct)[T.5.0]              0.1716      0.081      2.117      0.034       0.013       0.330\n",
              "C(precinct)[T.6.0]              0.2822      0.079      3.594      0.000       0.128       0.436\n",
              "C(precinct)[T.7.0]              0.8584      0.078     11.071      0.000       0.706       1.010\n",
              "C(precinct)[T.9.0]              0.2968      0.071      4.189      0.000       0.158       0.436\n",
              "C(precinct)[T.10.0]             0.2543      0.081      3.144      0.002       0.096       0.413\n",
              "C(precinct)[T.13.0]            -0.1085      0.074     -1.463      0.143      -0.254       0.037\n",
              "C(precinct)[T.14.0]            -0.3188      0.065     -4.896      0.000      -0.446      -0.191\n",
              "C(precinct)[T.17.0]            -0.4345      0.100     -4.340      0.000      -0.631      -0.238\n",
              "C(precinct)[T.18.0]            -0.5150      0.082     -6.259      0.000      -0.676      -0.354\n",
              "C(precinct)[T.19.0]            -0.0915      0.075     -1.225      0.221      -0.238       0.055\n",
              "C(precinct)[T.20.0]            -0.4209      0.077     -5.462      0.000      -0.572      -0.270\n",
              "C(precinct)[T.22.0]            -0.5254      0.127     -4.153      0.000      -0.773      -0.277\n",
              "C(precinct)[T.23.0]             0.3589      0.062      5.773      0.000       0.237       0.481\n",
              "C(precinct)[T.24.0]             0.0209      0.075      0.277      0.782      -0.127       0.168\n",
              "C(precinct)[T.25.0]             0.5596      0.066      8.470      0.000       0.430       0.689\n",
              "C(precinct)[T.26.0]             0.5933      0.073      8.156      0.000       0.451       0.736\n",
              "C(precinct)[T.28.0]             0.2500      0.067      3.734      0.000       0.119       0.381\n",
              "C(precinct)[T.30.0]             0.4550      0.069      6.625      0.000       0.320       0.590\n",
              "C(precinct)[T.32.0]             1.1589      0.065     17.808      0.000       1.031       1.286\n",
              "C(precinct)[T.33.0]             0.6502      0.071      9.132      0.000       0.511       0.790\n",
              "C(precinct)[T.34.0]             0.4953      0.066      7.477      0.000       0.365       0.625\n",
              "C(precinct)[T.40.0]             0.7928      0.062     12.799      0.000       0.671       0.914\n",
              "C(precinct)[T.41.0]             0.7468      0.067     11.195      0.000       0.616       0.878\n",
              "C(precinct)[T.42.0]             1.0516      0.066     15.967      0.000       0.923       1.181\n",
              "C(precinct)[T.43.0]             0.5869      0.064      9.239      0.000       0.462       0.711\n",
              "C(precinct)[T.44.0]             1.6174      0.065     24.747      0.000       1.489       1.746\n",
              "C(precinct)[T.45.0]             0.1575      0.073      2.149      0.032       0.014       0.301\n",
              "C(precinct)[T.46.0]             1.5683      0.068     22.911      0.000       1.434       1.703\n",
              "C(precinct)[T.47.0]             0.7424      0.066     11.220      0.000       0.613       0.872\n",
              "C(precinct)[T.48.0]             1.0470      0.077     13.526      0.000       0.895       1.199\n",
              "C(precinct)[T.49.0]             0.7403      0.068     10.880      0.000       0.607       0.874\n",
              "C(precinct)[T.50.0]             0.6340      0.085      7.421      0.000       0.467       0.801\n",
              "C(precinct)[T.52.0]             1.1324      0.066     17.125      0.000       1.003       1.262\n",
              "C(precinct)[T.60.0]             0.6449      0.065      9.891      0.000       0.517       0.773\n",
              "C(precinct)[T.61.0]             0.4476      0.069      6.499      0.000       0.313       0.583\n",
              "C(precinct)[T.62.0]             0.1718      0.071      2.418      0.016       0.033       0.311\n",
              "C(precinct)[T.63.0]             0.7922      0.078     10.155      0.000       0.639       0.945\n",
              "C(precinct)[T.66.0]             0.3302      0.077      4.296      0.000       0.180       0.481\n",
              "C(precinct)[T.67.0]             0.4007      0.063      6.324      0.000       0.276       0.525\n",
              "C(precinct)[T.68.0]             0.1478      0.081      1.815      0.070      -0.012       0.307\n",
              "C(precinct)[T.69.0]             0.2784      0.069      4.044      0.000       0.143       0.413\n",
              "C(precinct)[T.70.0]             0.5390      0.064      8.431      0.000       0.414       0.664\n",
              "C(precinct)[T.71.0]             0.2656      0.068      3.894      0.000       0.132       0.399\n",
              "C(precinct)[T.72.0]             0.7361      0.072     10.285      0.000       0.596       0.876\n",
              "C(precinct)[T.73.0]             0.2253      0.060      3.740      0.000       0.107       0.343\n",
              "C(precinct)[T.75.0]             0.4728      0.060      7.924      0.000       0.356       0.590\n",
              "C(precinct)[T.76.0]            -0.1059      0.072     -1.471      0.141      -0.247       0.035\n",
              "C(precinct)[T.77.0]             0.3723      0.064      5.804      0.000       0.247       0.498\n",
              "C(precinct)[T.78.0]            -0.1391      0.080     -1.729      0.084      -0.297       0.019\n",
              "C(precinct)[T.79.0]             0.2962      0.062      4.805      0.000       0.175       0.417\n",
              "C(precinct)[T.81.0]             0.7454      0.065     11.514      0.000       0.619       0.872\n",
              "C(precinct)[T.83.0]             0.7430      0.064     11.589      0.000       0.617       0.869\n",
              "C(precinct)[T.84.0]            -0.1077      0.074     -1.464      0.143      -0.252       0.036\n",
              "C(precinct)[T.88.0]             0.2522      0.068      3.705      0.000       0.119       0.386\n",
              "C(precinct)[T.90.0]             0.0350      0.064      0.552      0.581      -0.089       0.160\n",
              "C(precinct)[T.94.0]             0.7150      0.092      7.739      0.000       0.534       0.896\n",
              "C(precinct)[T.100.0]            0.3287      0.074      4.457      0.000       0.184       0.473\n",
              "C(precinct)[T.101.0]            1.1866      0.066     18.081      0.000       1.058       1.315\n",
              "C(precinct)[T.102.0]            0.7537      0.067     11.177      0.000       0.622       0.886\n",
              "C(precinct)[T.103.0]            0.3857      0.062      6.192      0.000       0.264       0.508\n",
              "C(precinct)[T.104.0]            1.1921      0.070     17.029      0.000       1.055       1.329\n",
              "C(precinct)[T.105.0]            0.5528      0.065      8.462      0.000       0.425       0.681\n",
              "C(precinct)[T.106.0]            0.4544      0.068      6.729      0.000       0.322       0.587\n",
              "C(precinct)[T.107.0]            0.4175      0.070      5.931      0.000       0.280       0.555\n",
              "C(precinct)[T.108.0]            0.5915      0.070      8.440      0.000       0.454       0.729\n",
              "C(precinct)[T.109.0]            0.9737      0.065     15.060      0.000       0.847       1.100\n",
              "C(precinct)[T.110.0]            1.5544      0.067     23.219      0.000       1.423       1.686\n",
              "C(precinct)[T.111.0]            0.6638      0.073      9.061      0.000       0.520       0.807\n",
              "C(precinct)[T.112.0]            0.7600      0.079      9.631      0.000       0.605       0.915\n",
              "C(precinct)[T.113.0]            0.5617      0.065      8.692      0.000       0.435       0.688\n",
              "C(precinct)[T.114.0]            0.6959      0.065     10.718      0.000       0.569       0.823\n",
              "C(precinct)[T.115.0]            1.4698      0.065     22.489      0.000       1.342       1.598\n",
              "C(precinct)[T.120.0]            0.1930      0.061      3.141      0.002       0.073       0.314\n",
              "C(precinct)[T.121.0]            1.1339      0.241      4.712      0.000       0.662       1.606\n",
              "C(precinct)[T.122.0]            0.3389      0.068      4.984      0.000       0.206       0.472\n",
              "C(precinct)[T.123.0]            0.2363      0.088      2.672      0.008       0.063       0.410\n",
              "===============================================================================================\n",
              "\"\"\""
            ],
            "text/html": [
              "<table class=\"simpletable\">\n",
              "<caption>Logit Regression Results</caption>\n",
              "<tr>\n",
              "  <th>Dep. Variable:</th>        <td>frisked</td>     <th>  No. Observations:  </th>   <td>249802</td>   \n",
              "</tr>\n",
              "<tr>\n",
              "  <th>Model:</th>                 <td>Logit</td>      <th>  Df Residuals:      </th>   <td>249722</td>   \n",
              "</tr>\n",
              "<tr>\n",
              "  <th>Method:</th>                 <td>MLE</td>       <th>  Df Model:          </th>   <td>    79</td>   \n",
              "</tr>\n",
              "<tr>\n",
              "  <th>Date:</th>            <td>Thu, 03 Nov 2022</td> <th>  Pseudo R-squ.:     </th>   <td>0.03629</td>  \n",
              "</tr>\n",
              "<tr>\n",
              "  <th>Time:</th>                <td>00:24:09</td>     <th>  Log-Likelihood:    </th> <td>-1.6491e+05</td>\n",
              "</tr>\n",
              "<tr>\n",
              "  <th>converged:</th>             <td>True</td>       <th>  LL-Null:           </th> <td>-1.7112e+05</td>\n",
              "</tr>\n",
              "<tr>\n",
              "  <th>Covariance Type:</th>     <td>nonrobust</td>    <th>  LLR p-value:       </th>   <td> 0.000</td>   \n",
              "</tr>\n",
              "</table>\n",
              "<table class=\"simpletable\">\n",
              "<tr>\n",
              "               <td></td>                  <th>coef</th>     <th>std err</th>      <th>z</th>      <th>P>|z|</th>  <th>[0.025</th>    <th>0.975]</th>  \n",
              "</tr>\n",
              "<tr>\n",
              "  <th>Intercept</th>                   <td>   -0.6489</td> <td>    0.061</td> <td>  -10.635</td> <td> 0.000</td> <td>   -0.769</td> <td>   -0.529</td>\n",
              "</tr>\n",
              "<tr>\n",
              "  <th>C(suspect_race)[T.black]</th>    <td>    0.4578</td> <td>    0.024</td> <td>   18.849</td> <td> 0.000</td> <td>    0.410</td> <td>    0.505</td>\n",
              "</tr>\n",
              "<tr>\n",
              "  <th>C(suspect_race)[T.hispanic]</th> <td>    0.3101</td> <td>    0.024</td> <td>   12.719</td> <td> 0.000</td> <td>    0.262</td> <td>    0.358</td>\n",
              "</tr>\n",
              "<tr>\n",
              "  <th>C(suspect_race)[T.white]</th>    <td>    0.0305</td> <td>    0.027</td> <td>    1.134</td> <td> 0.257</td> <td>   -0.022</td> <td>    0.083</td>\n",
              "</tr>\n",
              "<tr>\n",
              "  <th>C(precinct)[T.5.0]</th>          <td>    0.1716</td> <td>    0.081</td> <td>    2.117</td> <td> 0.034</td> <td>    0.013</td> <td>    0.330</td>\n",
              "</tr>\n",
              "<tr>\n",
              "  <th>C(precinct)[T.6.0]</th>          <td>    0.2822</td> <td>    0.079</td> <td>    3.594</td> <td> 0.000</td> <td>    0.128</td> <td>    0.436</td>\n",
              "</tr>\n",
              "<tr>\n",
              "  <th>C(precinct)[T.7.0]</th>          <td>    0.8584</td> <td>    0.078</td> <td>   11.071</td> <td> 0.000</td> <td>    0.706</td> <td>    1.010</td>\n",
              "</tr>\n",
              "<tr>\n",
              "  <th>C(precinct)[T.9.0]</th>          <td>    0.2968</td> <td>    0.071</td> <td>    4.189</td> <td> 0.000</td> <td>    0.158</td> <td>    0.436</td>\n",
              "</tr>\n",
              "<tr>\n",
              "  <th>C(precinct)[T.10.0]</th>         <td>    0.2543</td> <td>    0.081</td> <td>    3.144</td> <td> 0.002</td> <td>    0.096</td> <td>    0.413</td>\n",
              "</tr>\n",
              "<tr>\n",
              "  <th>C(precinct)[T.13.0]</th>         <td>   -0.1085</td> <td>    0.074</td> <td>   -1.463</td> <td> 0.143</td> <td>   -0.254</td> <td>    0.037</td>\n",
              "</tr>\n",
              "<tr>\n",
              "  <th>C(precinct)[T.14.0]</th>         <td>   -0.3188</td> <td>    0.065</td> <td>   -4.896</td> <td> 0.000</td> <td>   -0.446</td> <td>   -0.191</td>\n",
              "</tr>\n",
              "<tr>\n",
              "  <th>C(precinct)[T.17.0]</th>         <td>   -0.4345</td> <td>    0.100</td> <td>   -4.340</td> <td> 0.000</td> <td>   -0.631</td> <td>   -0.238</td>\n",
              "</tr>\n",
              "<tr>\n",
              "  <th>C(precinct)[T.18.0]</th>         <td>   -0.5150</td> <td>    0.082</td> <td>   -6.259</td> <td> 0.000</td> <td>   -0.676</td> <td>   -0.354</td>\n",
              "</tr>\n",
              "<tr>\n",
              "  <th>C(precinct)[T.19.0]</th>         <td>   -0.0915</td> <td>    0.075</td> <td>   -1.225</td> <td> 0.221</td> <td>   -0.238</td> <td>    0.055</td>\n",
              "</tr>\n",
              "<tr>\n",
              "  <th>C(precinct)[T.20.0]</th>         <td>   -0.4209</td> <td>    0.077</td> <td>   -5.462</td> <td> 0.000</td> <td>   -0.572</td> <td>   -0.270</td>\n",
              "</tr>\n",
              "<tr>\n",
              "  <th>C(precinct)[T.22.0]</th>         <td>   -0.5254</td> <td>    0.127</td> <td>   -4.153</td> <td> 0.000</td> <td>   -0.773</td> <td>   -0.277</td>\n",
              "</tr>\n",
              "<tr>\n",
              "  <th>C(precinct)[T.23.0]</th>         <td>    0.3589</td> <td>    0.062</td> <td>    5.773</td> <td> 0.000</td> <td>    0.237</td> <td>    0.481</td>\n",
              "</tr>\n",
              "<tr>\n",
              "  <th>C(precinct)[T.24.0]</th>         <td>    0.0209</td> <td>    0.075</td> <td>    0.277</td> <td> 0.782</td> <td>   -0.127</td> <td>    0.168</td>\n",
              "</tr>\n",
              "<tr>\n",
              "  <th>C(precinct)[T.25.0]</th>         <td>    0.5596</td> <td>    0.066</td> <td>    8.470</td> <td> 0.000</td> <td>    0.430</td> <td>    0.689</td>\n",
              "</tr>\n",
              "<tr>\n",
              "  <th>C(precinct)[T.26.0]</th>         <td>    0.5933</td> <td>    0.073</td> <td>    8.156</td> <td> 0.000</td> <td>    0.451</td> <td>    0.736</td>\n",
              "</tr>\n",
              "<tr>\n",
              "  <th>C(precinct)[T.28.0]</th>         <td>    0.2500</td> <td>    0.067</td> <td>    3.734</td> <td> 0.000</td> <td>    0.119</td> <td>    0.381</td>\n",
              "</tr>\n",
              "<tr>\n",
              "  <th>C(precinct)[T.30.0]</th>         <td>    0.4550</td> <td>    0.069</td> <td>    6.625</td> <td> 0.000</td> <td>    0.320</td> <td>    0.590</td>\n",
              "</tr>\n",
              "<tr>\n",
              "  <th>C(precinct)[T.32.0]</th>         <td>    1.1589</td> <td>    0.065</td> <td>   17.808</td> <td> 0.000</td> <td>    1.031</td> <td>    1.286</td>\n",
              "</tr>\n",
              "<tr>\n",
              "  <th>C(precinct)[T.33.0]</th>         <td>    0.6502</td> <td>    0.071</td> <td>    9.132</td> <td> 0.000</td> <td>    0.511</td> <td>    0.790</td>\n",
              "</tr>\n",
              "<tr>\n",
              "  <th>C(precinct)[T.34.0]</th>         <td>    0.4953</td> <td>    0.066</td> <td>    7.477</td> <td> 0.000</td> <td>    0.365</td> <td>    0.625</td>\n",
              "</tr>\n",
              "<tr>\n",
              "  <th>C(precinct)[T.40.0]</th>         <td>    0.7928</td> <td>    0.062</td> <td>   12.799</td> <td> 0.000</td> <td>    0.671</td> <td>    0.914</td>\n",
              "</tr>\n",
              "<tr>\n",
              "  <th>C(precinct)[T.41.0]</th>         <td>    0.7468</td> <td>    0.067</td> <td>   11.195</td> <td> 0.000</td> <td>    0.616</td> <td>    0.878</td>\n",
              "</tr>\n",
              "<tr>\n",
              "  <th>C(precinct)[T.42.0]</th>         <td>    1.0516</td> <td>    0.066</td> <td>   15.967</td> <td> 0.000</td> <td>    0.923</td> <td>    1.181</td>\n",
              "</tr>\n",
              "<tr>\n",
              "  <th>C(precinct)[T.43.0]</th>         <td>    0.5869</td> <td>    0.064</td> <td>    9.239</td> <td> 0.000</td> <td>    0.462</td> <td>    0.711</td>\n",
              "</tr>\n",
              "<tr>\n",
              "  <th>C(precinct)[T.44.0]</th>         <td>    1.6174</td> <td>    0.065</td> <td>   24.747</td> <td> 0.000</td> <td>    1.489</td> <td>    1.746</td>\n",
              "</tr>\n",
              "<tr>\n",
              "  <th>C(precinct)[T.45.0]</th>         <td>    0.1575</td> <td>    0.073</td> <td>    2.149</td> <td> 0.032</td> <td>    0.014</td> <td>    0.301</td>\n",
              "</tr>\n",
              "<tr>\n",
              "  <th>C(precinct)[T.46.0]</th>         <td>    1.5683</td> <td>    0.068</td> <td>   22.911</td> <td> 0.000</td> <td>    1.434</td> <td>    1.703</td>\n",
              "</tr>\n",
              "<tr>\n",
              "  <th>C(precinct)[T.47.0]</th>         <td>    0.7424</td> <td>    0.066</td> <td>   11.220</td> <td> 0.000</td> <td>    0.613</td> <td>    0.872</td>\n",
              "</tr>\n",
              "<tr>\n",
              "  <th>C(precinct)[T.48.0]</th>         <td>    1.0470</td> <td>    0.077</td> <td>   13.526</td> <td> 0.000</td> <td>    0.895</td> <td>    1.199</td>\n",
              "</tr>\n",
              "<tr>\n",
              "  <th>C(precinct)[T.49.0]</th>         <td>    0.7403</td> <td>    0.068</td> <td>   10.880</td> <td> 0.000</td> <td>    0.607</td> <td>    0.874</td>\n",
              "</tr>\n",
              "<tr>\n",
              "  <th>C(precinct)[T.50.0]</th>         <td>    0.6340</td> <td>    0.085</td> <td>    7.421</td> <td> 0.000</td> <td>    0.467</td> <td>    0.801</td>\n",
              "</tr>\n",
              "<tr>\n",
              "  <th>C(precinct)[T.52.0]</th>         <td>    1.1324</td> <td>    0.066</td> <td>   17.125</td> <td> 0.000</td> <td>    1.003</td> <td>    1.262</td>\n",
              "</tr>\n",
              "<tr>\n",
              "  <th>C(precinct)[T.60.0]</th>         <td>    0.6449</td> <td>    0.065</td> <td>    9.891</td> <td> 0.000</td> <td>    0.517</td> <td>    0.773</td>\n",
              "</tr>\n",
              "<tr>\n",
              "  <th>C(precinct)[T.61.0]</th>         <td>    0.4476</td> <td>    0.069</td> <td>    6.499</td> <td> 0.000</td> <td>    0.313</td> <td>    0.583</td>\n",
              "</tr>\n",
              "<tr>\n",
              "  <th>C(precinct)[T.62.0]</th>         <td>    0.1718</td> <td>    0.071</td> <td>    2.418</td> <td> 0.016</td> <td>    0.033</td> <td>    0.311</td>\n",
              "</tr>\n",
              "<tr>\n",
              "  <th>C(precinct)[T.63.0]</th>         <td>    0.7922</td> <td>    0.078</td> <td>   10.155</td> <td> 0.000</td> <td>    0.639</td> <td>    0.945</td>\n",
              "</tr>\n",
              "<tr>\n",
              "  <th>C(precinct)[T.66.0]</th>         <td>    0.3302</td> <td>    0.077</td> <td>    4.296</td> <td> 0.000</td> <td>    0.180</td> <td>    0.481</td>\n",
              "</tr>\n",
              "<tr>\n",
              "  <th>C(precinct)[T.67.0]</th>         <td>    0.4007</td> <td>    0.063</td> <td>    6.324</td> <td> 0.000</td> <td>    0.276</td> <td>    0.525</td>\n",
              "</tr>\n",
              "<tr>\n",
              "  <th>C(precinct)[T.68.0]</th>         <td>    0.1478</td> <td>    0.081</td> <td>    1.815</td> <td> 0.070</td> <td>   -0.012</td> <td>    0.307</td>\n",
              "</tr>\n",
              "<tr>\n",
              "  <th>C(precinct)[T.69.0]</th>         <td>    0.2784</td> <td>    0.069</td> <td>    4.044</td> <td> 0.000</td> <td>    0.143</td> <td>    0.413</td>\n",
              "</tr>\n",
              "<tr>\n",
              "  <th>C(precinct)[T.70.0]</th>         <td>    0.5390</td> <td>    0.064</td> <td>    8.431</td> <td> 0.000</td> <td>    0.414</td> <td>    0.664</td>\n",
              "</tr>\n",
              "<tr>\n",
              "  <th>C(precinct)[T.71.0]</th>         <td>    0.2656</td> <td>    0.068</td> <td>    3.894</td> <td> 0.000</td> <td>    0.132</td> <td>    0.399</td>\n",
              "</tr>\n",
              "<tr>\n",
              "  <th>C(precinct)[T.72.0]</th>         <td>    0.7361</td> <td>    0.072</td> <td>   10.285</td> <td> 0.000</td> <td>    0.596</td> <td>    0.876</td>\n",
              "</tr>\n",
              "<tr>\n",
              "  <th>C(precinct)[T.73.0]</th>         <td>    0.2253</td> <td>    0.060</td> <td>    3.740</td> <td> 0.000</td> <td>    0.107</td> <td>    0.343</td>\n",
              "</tr>\n",
              "<tr>\n",
              "  <th>C(precinct)[T.75.0]</th>         <td>    0.4728</td> <td>    0.060</td> <td>    7.924</td> <td> 0.000</td> <td>    0.356</td> <td>    0.590</td>\n",
              "</tr>\n",
              "<tr>\n",
              "  <th>C(precinct)[T.76.0]</th>         <td>   -0.1059</td> <td>    0.072</td> <td>   -1.471</td> <td> 0.141</td> <td>   -0.247</td> <td>    0.035</td>\n",
              "</tr>\n",
              "<tr>\n",
              "  <th>C(precinct)[T.77.0]</th>         <td>    0.3723</td> <td>    0.064</td> <td>    5.804</td> <td> 0.000</td> <td>    0.247</td> <td>    0.498</td>\n",
              "</tr>\n",
              "<tr>\n",
              "  <th>C(precinct)[T.78.0]</th>         <td>   -0.1391</td> <td>    0.080</td> <td>   -1.729</td> <td> 0.084</td> <td>   -0.297</td> <td>    0.019</td>\n",
              "</tr>\n",
              "<tr>\n",
              "  <th>C(precinct)[T.79.0]</th>         <td>    0.2962</td> <td>    0.062</td> <td>    4.805</td> <td> 0.000</td> <td>    0.175</td> <td>    0.417</td>\n",
              "</tr>\n",
              "<tr>\n",
              "  <th>C(precinct)[T.81.0]</th>         <td>    0.7454</td> <td>    0.065</td> <td>   11.514</td> <td> 0.000</td> <td>    0.619</td> <td>    0.872</td>\n",
              "</tr>\n",
              "<tr>\n",
              "  <th>C(precinct)[T.83.0]</th>         <td>    0.7430</td> <td>    0.064</td> <td>   11.589</td> <td> 0.000</td> <td>    0.617</td> <td>    0.869</td>\n",
              "</tr>\n",
              "<tr>\n",
              "  <th>C(precinct)[T.84.0]</th>         <td>   -0.1077</td> <td>    0.074</td> <td>   -1.464</td> <td> 0.143</td> <td>   -0.252</td> <td>    0.036</td>\n",
              "</tr>\n",
              "<tr>\n",
              "  <th>C(precinct)[T.88.0]</th>         <td>    0.2522</td> <td>    0.068</td> <td>    3.705</td> <td> 0.000</td> <td>    0.119</td> <td>    0.386</td>\n",
              "</tr>\n",
              "<tr>\n",
              "  <th>C(precinct)[T.90.0]</th>         <td>    0.0350</td> <td>    0.064</td> <td>    0.552</td> <td> 0.581</td> <td>   -0.089</td> <td>    0.160</td>\n",
              "</tr>\n",
              "<tr>\n",
              "  <th>C(precinct)[T.94.0]</th>         <td>    0.7150</td> <td>    0.092</td> <td>    7.739</td> <td> 0.000</td> <td>    0.534</td> <td>    0.896</td>\n",
              "</tr>\n",
              "<tr>\n",
              "  <th>C(precinct)[T.100.0]</th>        <td>    0.3287</td> <td>    0.074</td> <td>    4.457</td> <td> 0.000</td> <td>    0.184</td> <td>    0.473</td>\n",
              "</tr>\n",
              "<tr>\n",
              "  <th>C(precinct)[T.101.0]</th>        <td>    1.1866</td> <td>    0.066</td> <td>   18.081</td> <td> 0.000</td> <td>    1.058</td> <td>    1.315</td>\n",
              "</tr>\n",
              "<tr>\n",
              "  <th>C(precinct)[T.102.0]</th>        <td>    0.7537</td> <td>    0.067</td> <td>   11.177</td> <td> 0.000</td> <td>    0.622</td> <td>    0.886</td>\n",
              "</tr>\n",
              "<tr>\n",
              "  <th>C(precinct)[T.103.0]</th>        <td>    0.3857</td> <td>    0.062</td> <td>    6.192</td> <td> 0.000</td> <td>    0.264</td> <td>    0.508</td>\n",
              "</tr>\n",
              "<tr>\n",
              "  <th>C(precinct)[T.104.0]</th>        <td>    1.1921</td> <td>    0.070</td> <td>   17.029</td> <td> 0.000</td> <td>    1.055</td> <td>    1.329</td>\n",
              "</tr>\n",
              "<tr>\n",
              "  <th>C(precinct)[T.105.0]</th>        <td>    0.5528</td> <td>    0.065</td> <td>    8.462</td> <td> 0.000</td> <td>    0.425</td> <td>    0.681</td>\n",
              "</tr>\n",
              "<tr>\n",
              "  <th>C(precinct)[T.106.0]</th>        <td>    0.4544</td> <td>    0.068</td> <td>    6.729</td> <td> 0.000</td> <td>    0.322</td> <td>    0.587</td>\n",
              "</tr>\n",
              "<tr>\n",
              "  <th>C(precinct)[T.107.0]</th>        <td>    0.4175</td> <td>    0.070</td> <td>    5.931</td> <td> 0.000</td> <td>    0.280</td> <td>    0.555</td>\n",
              "</tr>\n",
              "<tr>\n",
              "  <th>C(precinct)[T.108.0]</th>        <td>    0.5915</td> <td>    0.070</td> <td>    8.440</td> <td> 0.000</td> <td>    0.454</td> <td>    0.729</td>\n",
              "</tr>\n",
              "<tr>\n",
              "  <th>C(precinct)[T.109.0]</th>        <td>    0.9737</td> <td>    0.065</td> <td>   15.060</td> <td> 0.000</td> <td>    0.847</td> <td>    1.100</td>\n",
              "</tr>\n",
              "<tr>\n",
              "  <th>C(precinct)[T.110.0]</th>        <td>    1.5544</td> <td>    0.067</td> <td>   23.219</td> <td> 0.000</td> <td>    1.423</td> <td>    1.686</td>\n",
              "</tr>\n",
              "<tr>\n",
              "  <th>C(precinct)[T.111.0]</th>        <td>    0.6638</td> <td>    0.073</td> <td>    9.061</td> <td> 0.000</td> <td>    0.520</td> <td>    0.807</td>\n",
              "</tr>\n",
              "<tr>\n",
              "  <th>C(precinct)[T.112.0]</th>        <td>    0.7600</td> <td>    0.079</td> <td>    9.631</td> <td> 0.000</td> <td>    0.605</td> <td>    0.915</td>\n",
              "</tr>\n",
              "<tr>\n",
              "  <th>C(precinct)[T.113.0]</th>        <td>    0.5617</td> <td>    0.065</td> <td>    8.692</td> <td> 0.000</td> <td>    0.435</td> <td>    0.688</td>\n",
              "</tr>\n",
              "<tr>\n",
              "  <th>C(precinct)[T.114.0]</th>        <td>    0.6959</td> <td>    0.065</td> <td>   10.718</td> <td> 0.000</td> <td>    0.569</td> <td>    0.823</td>\n",
              "</tr>\n",
              "<tr>\n",
              "  <th>C(precinct)[T.115.0]</th>        <td>    1.4698</td> <td>    0.065</td> <td>   22.489</td> <td> 0.000</td> <td>    1.342</td> <td>    1.598</td>\n",
              "</tr>\n",
              "<tr>\n",
              "  <th>C(precinct)[T.120.0]</th>        <td>    0.1930</td> <td>    0.061</td> <td>    3.141</td> <td> 0.002</td> <td>    0.073</td> <td>    0.314</td>\n",
              "</tr>\n",
              "<tr>\n",
              "  <th>C(precinct)[T.121.0]</th>        <td>    1.1339</td> <td>    0.241</td> <td>    4.712</td> <td> 0.000</td> <td>    0.662</td> <td>    1.606</td>\n",
              "</tr>\n",
              "<tr>\n",
              "  <th>C(precinct)[T.122.0]</th>        <td>    0.3389</td> <td>    0.068</td> <td>    4.984</td> <td> 0.000</td> <td>    0.206</td> <td>    0.472</td>\n",
              "</tr>\n",
              "<tr>\n",
              "  <th>C(precinct)[T.123.0]</th>        <td>    0.2363</td> <td>    0.088</td> <td>    2.672</td> <td> 0.008</td> <td>    0.063</td> <td>    0.410</td>\n",
              "</tr>\n",
              "</table>"
            ]
          },
          "metadata": {},
          "execution_count": 6
        }
      ],
      "source": [
        "fitted_model = sm.Logit.from_formula('frisked ~ C(suspect_race) + C(precinct)', data=df).fit()\n",
        "fitted_model.summary()"
      ],
      "id": "j7Jy6XAWacth"
    },
    {
      "cell_type": "markdown",
      "metadata": {
        "id": "xddOFV6kWvzy"
      },
      "source": [
        "1. We want to treat precinct as a categorical variable because it even though its value is numerical, it represents an area not a continuous number, and therefore not linearly correlated.\n",
        "\n",
        "2. One change is that the coefficient for \"white\" became positive, which means that the odds of a suspect being frisked is higher if the suspect is white. This doesn't agree with the results when we only consider \"suspect_race\". Another change is that black becomes the race group that is most likely to be frisked. If we only control \"suspect_race\", hispanic suspects are more likely to be frisked.\n",
        "\n",
        "3. Argument in favor of controlling location: There might be dangerous neighborhoods that the police are more careful about, making suspects stopped in those areas more likely to be frisked. In the results, for a lot of the precincts, the coefficients are large and the p-values are small, which means that suspects were more likely to be frisked if they were stopped in those areas. This indicates an association between location and \"frisked\".\n",
        "\n",
        "4. Argument against controlling location: Although in there might be an association between \"location\" and \"frisked\", it does not mean that locatoin determines \"frisked\". For instance, an area might have a higher population concentration of a certain racial group, which cause it to have a higher \"frisked\" value associated with it. Race is still the only determinator, but since location is associated with race, we might get misleading result."
      ],
      "id": "xddOFV6kWvzy"
    },
    {
      "cell_type": "markdown",
      "metadata": {
        "id": "expected-whole"
      },
      "source": [
        "**e. In a few sentences, explain why it is a BAD idea, conceptually, to control for the following variables if we are trying to assess whether the police racially discriminate in whom they frisk after a stop: a) \"found.weapon\", which encodes whether the frisk found a weapon, and b) \"suspect.eye\" and \"suspect.hair\", which encode the suspect's eye and hair color. (4 points)**"
      ],
      "id": "expected-whole"
    },
    {
      "cell_type": "markdown",
      "metadata": {
        "id": "_5dWS0LAW6De"
      },
      "source": [
        "1. \"found.weapon\": This variable indicates whether or not weapon is found after the suspect is frisked, which is unrelated to why he/she is frisked.\n",
        "2. \"suspect.eye\" and \"suspect.hair\" might relate to \"frisk\" because certain races share similar traits (e.g. black and hispanic are more likely to have dark hair and eye color). But this is only because they are correlated to \"suspect_race\", and it does no mean that eye and hair color will determine the possibility of a suspect being frisked."
      ],
      "id": "_5dWS0LAW6De"
    },
    {
      "cell_type": "markdown",
      "metadata": {
        "id": "closed-difference"
      },
      "source": [
        "**f. In a few sentences, explain the problem of omitted variable bias in this analysis, and how it would undermine the conclusions. (4 points)**"
      ],
      "id": "closed-difference"
    },
    {
      "cell_type": "markdown",
      "metadata": {
        "id": "74cAqUPgW7Mu"
      },
      "source": [
        "Omitted variable bias occurs whenever we fail to control for something which is correlated with the independent variable of interest and helps determine the outcome. When this happens, the causal effect from the omitted variable becomes tangled up in the coefficient on the variable with which it is correlated, which undermines our ability to infer causality and severely impacts our results. \n",
        "\n",
        "One example is \"precinct\". When we control location as variable, black suspects are most likely to be frisked, which is different from the result when we do not control location. Another example is if we take \"suspect.eye\" and \"suspect.hair\" into account and omit \"suspect_race\". The results might show that eye and hair color determine the possibility of being frisked, but it is because \"race\" is omitted.\n"
      ],
      "id": "74cAqUPgW7Mu"
    },
    {
      "cell_type": "markdown",
      "metadata": {
        "id": "mBwIUjuRt5o2"
      },
      "source": [
        "**g. In a few sentences, explain why only examining whether someone is frisked after a stop might fail to provide a full picture of discrimination in the stop and frisk policy. (4 points)**"
      ],
      "id": "mBwIUjuRt5o2"
    },
    {
      "cell_type": "markdown",
      "metadata": {
        "id": "IuBEAzCVW7zQ"
      },
      "source": [
        "When doing the analysis, we should also take the reason why the suspect is stopped into consideration. For instance, if suspects in a certain racial group is frisked more often than that of another group, given that they are all stopped for the same reason, then it means that race determines the possibility of being frisked. We might also want to look at the frequency of suspects being stopped and the outcome of the frisks for a full picture of the analysis."
      ],
      "id": "IuBEAzCVW7zQ"
    },
    {
      "cell_type": "markdown",
      "metadata": {
        "id": "grateful-chassis"
      },
      "source": [
        "## Outcome analysis using regularized regression (65 points)"
      ],
      "id": "grateful-chassis"
    },
    {
      "cell_type": "markdown",
      "metadata": {
        "id": "scientific-franchise"
      },
      "source": [
        "Because of the issues with omitted variables in analyses like the one above, *outcome* tests are often used: these look not at the rate at which a decision is made (like the decision to frisk), but at the outcome of the decision (for example, if the frisk is conducted to find a weapon, does it actually find one?) Now we will use an outcome-style analysis. Specifically, we will fit a machine learning model to predict the probability that each stop which was conducted on suspicion the pedestrian possessed a weapon actually finds a weapon. Stops which are very unlikely to find a weapon arguably violate the Fourth Amendment, which prohibits unreasonable searches; if such stops disproportionately occur of certain race groups, the policy may violate the Fourteenth Amendment, which prohibits racial discrimination. "
      ],
      "id": "scientific-franchise"
    },
    {
      "cell_type": "markdown",
      "metadata": {
        "id": "-CaMrTP0NlPY"
      },
      "source": [
        "**a. In this portion of this analysis, you will be using a smaller version of the data to speed up model fitting. Read in the CSV file \"small_sqf_sample.csv\". As before, we need to do some data processing for consistency with previous of analysis of this data. Load in the data and filter for stops between 2009 and 2013 (including both 2009 and 2013); filter for stops of white, Black, Hispanic, and Asian pedestrians using the suspect_race column; and filter for stops conducted on suspicion of criminal posession of a weapon (ie, suspected_crime == 'cpw'). (5 points)**"
      ],
      "id": "-CaMrTP0NlPY"
    },
    {
      "cell_type": "code",
      "execution_count": 7,
      "metadata": {
        "id": "SsTfY6BOacti"
      },
      "outputs": [],
      "source": [
        "df2=pd.read_csv('/content/small_sqf_sample.csv')"
      ],
      "id": "SsTfY6BOacti"
    },
    {
      "cell_type": "code",
      "source": [
        "# Filter by year\n",
        "df2 = df2[(df2['year'] >= 2009) & (df2['year'] <= 2013)]\n",
        "\n",
        "# Filter by race\n",
        "df2 = df2[df2['suspect_race'].isin([\"white\", \"black\", \"hispanic\", \"asian\"])]\n",
        "\n",
        "# Filter by stop reason\n",
        "df2 = df2[df2[\"suspected_crime\"]=='cpw']"
      ],
      "metadata": {
        "id": "wg2Nd8M1C1xp"
      },
      "id": "wg2Nd8M1C1xp",
      "execution_count": 8,
      "outputs": []
    },
    {
      "cell_type": "markdown",
      "metadata": {
        "id": "confident-array"
      },
      "source": [
        "\n",
        "**b. We will be fitting the regression model** \n",
        "\n",
        "`found_weapon ~ C(precinct) * C(suspect_race) + C(location_housing) + C(year) + suspect_age + suspect_height + suspect_weight + suspect_sex + ADDITIONAL_CIRCUMSTANCE_COLUMNS` \n",
        "\n",
        "where ADDITIONAL_CIRCUMSTANCE_COLUMNS are any columns that begin with \"stopped_bc\" or \"additional_\" besides \"additional_other\" and \"stopped_bc_other\". You can get these columns by running\n",
        "\n",
        "`ADDITIONAL_CIRCUMSTANCE_COLUMNS = [a for a in d.columns if ('stopped_bc' in a or 'additional_' in a) and a not in (['additional_other', 'stopped_bc_other'])]`\n",
        "\n",
        "You should have 18 additional columns. These columns provide more information about the circumstances of the stop, and we include them for consistency with the original analysis and because they turn out to be important for predictive performance. \n",
        "\n",
        "Drop any rows with missing values in any of the variables you need. \n",
        "\n",
        "Now, we need to put the data into a format which sklearn can use later - ie, numpy arrays. Do this with \"patsy\" library and the \"dmatrix\" function. You can call dmatrix as follows:\n",
        "\n",
        "`sqf_X = patsy.dmatrix('C(precinct) * C(suspect_race) + C(location_housing) + C(year) + suspect_age + suspect_height + suspect_weight + suspect_sex +' + '+'.join(ADDITIONAL_CIRCUMSTANCE_COLUMNS),sqf_data, return_type='dataframe')`\n",
        "\n",
        "and it will return a dataframe on which you can fit a regression model. The first argument to dmatrix is the formula that you want to use to make the dataframe; the second argument gives patsy the data you want to use; return_type='dataframe' ensures that you get a dataframe, not a patsy object which is hard to use.\n",
        "\n",
        "Look at the output of dmatrix and explain what the columns mean. Why can't we just pass the columns from the original dataframe directly into the sklearn function? (8 points)\n"
      ],
      "id": "confident-array"
    },
    {
      "cell_type": "code",
      "execution_count": 9,
      "metadata": {
        "id": "5goZiuwFacti"
      },
      "outputs": [],
      "source": [
        "# Get additional columns that begin with \"stopped_bc\" or \"additional_\" besides \"additional_other\" and \"stopped_bc_other\"\n",
        "ADDITIONAL_CIRCUMSTANCE_COLUMNS = [a for a in df2.columns if ('stopped_bc' in a or 'additional_' in a) and a not in (['additional_other', 'stopped_bc_other'])]"
      ],
      "id": "5goZiuwFacti"
    },
    {
      "cell_type": "code",
      "source": [
        "ADDITIONAL_CIRCUMSTANCE_COLUMNS"
      ],
      "metadata": {
        "colab": {
          "base_uri": "https://localhost:8080/"
        },
        "id": "3ifyu1bw5IxE",
        "outputId": "422baa91-5471-4a11-b610-5954a0c71bde"
      },
      "id": "3ifyu1bw5IxE",
      "execution_count": 10,
      "outputs": [
        {
          "output_type": "execute_result",
          "data": {
            "text/plain": [
              "['stopped_bc_object',\n",
              " 'stopped_bc_desc',\n",
              " 'stopped_bc_casing',\n",
              " 'stopped_bc_lookout',\n",
              " 'stopped_bc_clothing',\n",
              " 'stopped_bc_drugs',\n",
              " 'stopped_bc_furtive',\n",
              " 'stopped_bc_violent',\n",
              " 'stopped_bc_bulge',\n",
              " 'additional_report',\n",
              " 'additional_investigation',\n",
              " 'additional_proximity',\n",
              " 'additional_evasive',\n",
              " 'additional_associating',\n",
              " 'additional_direction',\n",
              " 'additional_highcrime',\n",
              " 'additional_time',\n",
              " 'additional_sights']"
            ]
          },
          "metadata": {},
          "execution_count": 10
        }
      ]
    },
    {
      "cell_type": "code",
      "source": [
        "# Dropping missing values\n",
        "df2_dropped = df2.dropna(subset=[\n",
        " 'precinct',\n",
        " 'suspect_race',\n",
        " 'found_weapon',\n",
        " 'location_housing',\n",
        " 'year',\n",
        " 'suspect_age',\n",
        " 'suspect_weight',\n",
        " 'suspect_height',\n",
        " 'suspect_sex',\n",
        " 'stopped_bc_object',\n",
        " 'stopped_bc_desc',\n",
        " 'stopped_bc_casing',\n",
        " 'stopped_bc_lookout',\n",
        " 'stopped_bc_clothing',\n",
        " 'stopped_bc_drugs',\n",
        " 'stopped_bc_furtive',\n",
        " 'stopped_bc_violent',\n",
        " 'stopped_bc_bulge',\n",
        " 'additional_report',\n",
        " 'additional_investigation',\n",
        " 'additional_proximity',\n",
        " 'additional_evasive',\n",
        " 'additional_associating',\n",
        " 'additional_direction',\n",
        " 'additional_highcrime',\n",
        " 'additional_time',\n",
        " 'additional_sights'\n",
        " ])"
      ],
      "metadata": {
        "id": "NuR9J1G96kAh"
      },
      "id": "NuR9J1G96kAh",
      "execution_count": 11,
      "outputs": []
    },
    {
      "cell_type": "code",
      "source": [
        "import patsy\n",
        "from patsy import dmatrix\n",
        "\n",
        "sqf_X = patsy.dmatrix('C(precinct) * C(suspect_race) + C(location_housing) + C(year) + suspect_age + suspect_height + suspect_weight + suspect_sex +' + '+'.join(ADDITIONAL_CIRCUMSTANCE_COLUMNS),df2_dropped, return_type='dataframe')"
      ],
      "metadata": {
        "id": "l7pDO3549YLa"
      },
      "id": "l7pDO3549YLa",
      "execution_count": 12,
      "outputs": []
    },
    {
      "cell_type": "code",
      "source": [
        "sqf_X"
      ],
      "metadata": {
        "colab": {
          "base_uri": "https://localhost:8080/",
          "height": 522
        },
        "id": "HUMHUuqN-gjD",
        "outputId": "c0ad34fe-5375-4c0e-8005-dec6b8a52fe4"
      },
      "id": "HUMHUuqN-gjD",
      "execution_count": 13,
      "outputs": [
        {
          "output_type": "execute_result",
          "data": {
            "text/plain": [
              "        Intercept  C(precinct)[T.5.0]  C(precinct)[T.6.0]  C(precinct)[T.7.0]  \\\n",
              "0             1.0                 0.0                 0.0                 0.0   \n",
              "17            1.0                 0.0                 0.0                 0.0   \n",
              "20            1.0                 0.0                 0.0                 0.0   \n",
              "23            1.0                 0.0                 0.0                 0.0   \n",
              "26            1.0                 0.0                 0.0                 0.0   \n",
              "...           ...                 ...                 ...                 ...   \n",
              "204287        1.0                 0.0                 0.0                 0.0   \n",
              "204289        1.0                 0.0                 0.0                 0.0   \n",
              "204291        1.0                 0.0                 0.0                 0.0   \n",
              "204298        1.0                 0.0                 0.0                 0.0   \n",
              "204303        1.0                 0.0                 0.0                 0.0   \n",
              "\n",
              "        C(precinct)[T.9.0]  C(precinct)[T.10.0]  C(precinct)[T.13.0]  \\\n",
              "0                      0.0                  0.0                  0.0   \n",
              "17                     0.0                  0.0                  0.0   \n",
              "20                     0.0                  0.0                  0.0   \n",
              "23                     0.0                  0.0                  0.0   \n",
              "26                     0.0                  0.0                  0.0   \n",
              "...                    ...                  ...                  ...   \n",
              "204287                 0.0                  0.0                  0.0   \n",
              "204289                 0.0                  0.0                  0.0   \n",
              "204291                 0.0                  0.0                  0.0   \n",
              "204298                 0.0                  0.0                  0.0   \n",
              "204303                 0.0                  0.0                  0.0   \n",
              "\n",
              "        C(precinct)[T.14.0]  C(precinct)[T.17.0]  C(precinct)[T.18.0]  ...  \\\n",
              "0                       0.0                  0.0                  0.0  ...   \n",
              "17                      0.0                  0.0                  0.0  ...   \n",
              "20                      0.0                  0.0                  0.0  ...   \n",
              "23                      0.0                  0.0                  0.0  ...   \n",
              "26                      0.0                  0.0                  0.0  ...   \n",
              "...                     ...                  ...                  ...  ...   \n",
              "204287                  0.0                  0.0                  0.0  ...   \n",
              "204289                  0.0                  0.0                  0.0  ...   \n",
              "204291                  0.0                  0.0                  0.0  ...   \n",
              "204298                  0.0                  0.0                  0.0  ...   \n",
              "204303                  0.0                  0.0                  0.0  ...   \n",
              "\n",
              "        C(precinct)[T.113.0]:C(suspect_race)[T.white]  \\\n",
              "0                                                 0.0   \n",
              "17                                                0.0   \n",
              "20                                                0.0   \n",
              "23                                                0.0   \n",
              "26                                                0.0   \n",
              "...                                               ...   \n",
              "204287                                            0.0   \n",
              "204289                                            0.0   \n",
              "204291                                            0.0   \n",
              "204298                                            0.0   \n",
              "204303                                            0.0   \n",
              "\n",
              "        C(precinct)[T.114.0]:C(suspect_race)[T.white]  \\\n",
              "0                                                 0.0   \n",
              "17                                                0.0   \n",
              "20                                                0.0   \n",
              "23                                                0.0   \n",
              "26                                                0.0   \n",
              "...                                               ...   \n",
              "204287                                            0.0   \n",
              "204289                                            0.0   \n",
              "204291                                            0.0   \n",
              "204298                                            0.0   \n",
              "204303                                            0.0   \n",
              "\n",
              "        C(precinct)[T.115.0]:C(suspect_race)[T.white]  \\\n",
              "0                                                 0.0   \n",
              "17                                                0.0   \n",
              "20                                                0.0   \n",
              "23                                                0.0   \n",
              "26                                                0.0   \n",
              "...                                               ...   \n",
              "204287                                            0.0   \n",
              "204289                                            0.0   \n",
              "204291                                            0.0   \n",
              "204298                                            0.0   \n",
              "204303                                            0.0   \n",
              "\n",
              "        C(precinct)[T.120.0]:C(suspect_race)[T.white]  \\\n",
              "0                                                 0.0   \n",
              "17                                                0.0   \n",
              "20                                                0.0   \n",
              "23                                                0.0   \n",
              "26                                                0.0   \n",
              "...                                               ...   \n",
              "204287                                            0.0   \n",
              "204289                                            0.0   \n",
              "204291                                            0.0   \n",
              "204298                                            0.0   \n",
              "204303                                            0.0   \n",
              "\n",
              "        C(precinct)[T.121.0]:C(suspect_race)[T.white]  \\\n",
              "0                                                 0.0   \n",
              "17                                                0.0   \n",
              "20                                                0.0   \n",
              "23                                                0.0   \n",
              "26                                                0.0   \n",
              "...                                               ...   \n",
              "204287                                            0.0   \n",
              "204289                                            0.0   \n",
              "204291                                            0.0   \n",
              "204298                                            0.0   \n",
              "204303                                            0.0   \n",
              "\n",
              "        C(precinct)[T.122.0]:C(suspect_race)[T.white]  \\\n",
              "0                                                 0.0   \n",
              "17                                                0.0   \n",
              "20                                                0.0   \n",
              "23                                                0.0   \n",
              "26                                                0.0   \n",
              "...                                               ...   \n",
              "204287                                            0.0   \n",
              "204289                                            0.0   \n",
              "204291                                            0.0   \n",
              "204298                                            0.0   \n",
              "204303                                            0.0   \n",
              "\n",
              "        C(precinct)[T.123.0]:C(suspect_race)[T.white]  suspect_age  \\\n",
              "0                                                 0.0         49.0   \n",
              "17                                                0.0         30.0   \n",
              "20                                                0.0         31.0   \n",
              "23                                                0.0         16.0   \n",
              "26                                                0.0         42.0   \n",
              "...                                               ...          ...   \n",
              "204287                                            0.0         29.0   \n",
              "204289                                            0.0         24.0   \n",
              "204291                                            0.0         23.0   \n",
              "204298                                            0.0         16.0   \n",
              "204303                                            0.0         40.0   \n",
              "\n",
              "        suspect_height  suspect_weight  \n",
              "0             6.000000           170.0  \n",
              "17            5.583333           180.0  \n",
              "20            6.333333           270.0  \n",
              "23            5.500000           160.0  \n",
              "26            5.583333           240.0  \n",
              "...                ...             ...  \n",
              "204287        5.583333           160.0  \n",
              "204289        6.083333           170.0  \n",
              "204291        5.833333           170.0  \n",
              "204298        5.750000           170.0  \n",
              "204303        5.250000           175.0  \n",
              "\n",
              "[32100 rows x 336 columns]"
            ],
            "text/html": [
              "\n",
              "  <div id=\"df-1a766e23-65fd-4a22-abde-b5ddbbb7a34e\">\n",
              "    <div class=\"colab-df-container\">\n",
              "      <div>\n",
              "<style scoped>\n",
              "    .dataframe tbody tr th:only-of-type {\n",
              "        vertical-align: middle;\n",
              "    }\n",
              "\n",
              "    .dataframe tbody tr th {\n",
              "        vertical-align: top;\n",
              "    }\n",
              "\n",
              "    .dataframe thead th {\n",
              "        text-align: right;\n",
              "    }\n",
              "</style>\n",
              "<table border=\"1\" class=\"dataframe\">\n",
              "  <thead>\n",
              "    <tr style=\"text-align: right;\">\n",
              "      <th></th>\n",
              "      <th>Intercept</th>\n",
              "      <th>C(precinct)[T.5.0]</th>\n",
              "      <th>C(precinct)[T.6.0]</th>\n",
              "      <th>C(precinct)[T.7.0]</th>\n",
              "      <th>C(precinct)[T.9.0]</th>\n",
              "      <th>C(precinct)[T.10.0]</th>\n",
              "      <th>C(precinct)[T.13.0]</th>\n",
              "      <th>C(precinct)[T.14.0]</th>\n",
              "      <th>C(precinct)[T.17.0]</th>\n",
              "      <th>C(precinct)[T.18.0]</th>\n",
              "      <th>...</th>\n",
              "      <th>C(precinct)[T.113.0]:C(suspect_race)[T.white]</th>\n",
              "      <th>C(precinct)[T.114.0]:C(suspect_race)[T.white]</th>\n",
              "      <th>C(precinct)[T.115.0]:C(suspect_race)[T.white]</th>\n",
              "      <th>C(precinct)[T.120.0]:C(suspect_race)[T.white]</th>\n",
              "      <th>C(precinct)[T.121.0]:C(suspect_race)[T.white]</th>\n",
              "      <th>C(precinct)[T.122.0]:C(suspect_race)[T.white]</th>\n",
              "      <th>C(precinct)[T.123.0]:C(suspect_race)[T.white]</th>\n",
              "      <th>suspect_age</th>\n",
              "      <th>suspect_height</th>\n",
              "      <th>suspect_weight</th>\n",
              "    </tr>\n",
              "  </thead>\n",
              "  <tbody>\n",
              "    <tr>\n",
              "      <th>0</th>\n",
              "      <td>1.0</td>\n",
              "      <td>0.0</td>\n",
              "      <td>0.0</td>\n",
              "      <td>0.0</td>\n",
              "      <td>0.0</td>\n",
              "      <td>0.0</td>\n",
              "      <td>0.0</td>\n",
              "      <td>0.0</td>\n",
              "      <td>0.0</td>\n",
              "      <td>0.0</td>\n",
              "      <td>...</td>\n",
              "      <td>0.0</td>\n",
              "      <td>0.0</td>\n",
              "      <td>0.0</td>\n",
              "      <td>0.0</td>\n",
              "      <td>0.0</td>\n",
              "      <td>0.0</td>\n",
              "      <td>0.0</td>\n",
              "      <td>49.0</td>\n",
              "      <td>6.000000</td>\n",
              "      <td>170.0</td>\n",
              "    </tr>\n",
              "    <tr>\n",
              "      <th>17</th>\n",
              "      <td>1.0</td>\n",
              "      <td>0.0</td>\n",
              "      <td>0.0</td>\n",
              "      <td>0.0</td>\n",
              "      <td>0.0</td>\n",
              "      <td>0.0</td>\n",
              "      <td>0.0</td>\n",
              "      <td>0.0</td>\n",
              "      <td>0.0</td>\n",
              "      <td>0.0</td>\n",
              "      <td>...</td>\n",
              "      <td>0.0</td>\n",
              "      <td>0.0</td>\n",
              "      <td>0.0</td>\n",
              "      <td>0.0</td>\n",
              "      <td>0.0</td>\n",
              "      <td>0.0</td>\n",
              "      <td>0.0</td>\n",
              "      <td>30.0</td>\n",
              "      <td>5.583333</td>\n",
              "      <td>180.0</td>\n",
              "    </tr>\n",
              "    <tr>\n",
              "      <th>20</th>\n",
              "      <td>1.0</td>\n",
              "      <td>0.0</td>\n",
              "      <td>0.0</td>\n",
              "      <td>0.0</td>\n",
              "      <td>0.0</td>\n",
              "      <td>0.0</td>\n",
              "      <td>0.0</td>\n",
              "      <td>0.0</td>\n",
              "      <td>0.0</td>\n",
              "      <td>0.0</td>\n",
              "      <td>...</td>\n",
              "      <td>0.0</td>\n",
              "      <td>0.0</td>\n",
              "      <td>0.0</td>\n",
              "      <td>0.0</td>\n",
              "      <td>0.0</td>\n",
              "      <td>0.0</td>\n",
              "      <td>0.0</td>\n",
              "      <td>31.0</td>\n",
              "      <td>6.333333</td>\n",
              "      <td>270.0</td>\n",
              "    </tr>\n",
              "    <tr>\n",
              "      <th>23</th>\n",
              "      <td>1.0</td>\n",
              "      <td>0.0</td>\n",
              "      <td>0.0</td>\n",
              "      <td>0.0</td>\n",
              "      <td>0.0</td>\n",
              "      <td>0.0</td>\n",
              "      <td>0.0</td>\n",
              "      <td>0.0</td>\n",
              "      <td>0.0</td>\n",
              "      <td>0.0</td>\n",
              "      <td>...</td>\n",
              "      <td>0.0</td>\n",
              "      <td>0.0</td>\n",
              "      <td>0.0</td>\n",
              "      <td>0.0</td>\n",
              "      <td>0.0</td>\n",
              "      <td>0.0</td>\n",
              "      <td>0.0</td>\n",
              "      <td>16.0</td>\n",
              "      <td>5.500000</td>\n",
              "      <td>160.0</td>\n",
              "    </tr>\n",
              "    <tr>\n",
              "      <th>26</th>\n",
              "      <td>1.0</td>\n",
              "      <td>0.0</td>\n",
              "      <td>0.0</td>\n",
              "      <td>0.0</td>\n",
              "      <td>0.0</td>\n",
              "      <td>0.0</td>\n",
              "      <td>0.0</td>\n",
              "      <td>0.0</td>\n",
              "      <td>0.0</td>\n",
              "      <td>0.0</td>\n",
              "      <td>...</td>\n",
              "      <td>0.0</td>\n",
              "      <td>0.0</td>\n",
              "      <td>0.0</td>\n",
              "      <td>0.0</td>\n",
              "      <td>0.0</td>\n",
              "      <td>0.0</td>\n",
              "      <td>0.0</td>\n",
              "      <td>42.0</td>\n",
              "      <td>5.583333</td>\n",
              "      <td>240.0</td>\n",
              "    </tr>\n",
              "    <tr>\n",
              "      <th>...</th>\n",
              "      <td>...</td>\n",
              "      <td>...</td>\n",
              "      <td>...</td>\n",
              "      <td>...</td>\n",
              "      <td>...</td>\n",
              "      <td>...</td>\n",
              "      <td>...</td>\n",
              "      <td>...</td>\n",
              "      <td>...</td>\n",
              "      <td>...</td>\n",
              "      <td>...</td>\n",
              "      <td>...</td>\n",
              "      <td>...</td>\n",
              "      <td>...</td>\n",
              "      <td>...</td>\n",
              "      <td>...</td>\n",
              "      <td>...</td>\n",
              "      <td>...</td>\n",
              "      <td>...</td>\n",
              "      <td>...</td>\n",
              "      <td>...</td>\n",
              "    </tr>\n",
              "    <tr>\n",
              "      <th>204287</th>\n",
              "      <td>1.0</td>\n",
              "      <td>0.0</td>\n",
              "      <td>0.0</td>\n",
              "      <td>0.0</td>\n",
              "      <td>0.0</td>\n",
              "      <td>0.0</td>\n",
              "      <td>0.0</td>\n",
              "      <td>0.0</td>\n",
              "      <td>0.0</td>\n",
              "      <td>0.0</td>\n",
              "      <td>...</td>\n",
              "      <td>0.0</td>\n",
              "      <td>0.0</td>\n",
              "      <td>0.0</td>\n",
              "      <td>0.0</td>\n",
              "      <td>0.0</td>\n",
              "      <td>0.0</td>\n",
              "      <td>0.0</td>\n",
              "      <td>29.0</td>\n",
              "      <td>5.583333</td>\n",
              "      <td>160.0</td>\n",
              "    </tr>\n",
              "    <tr>\n",
              "      <th>204289</th>\n",
              "      <td>1.0</td>\n",
              "      <td>0.0</td>\n",
              "      <td>0.0</td>\n",
              "      <td>0.0</td>\n",
              "      <td>0.0</td>\n",
              "      <td>0.0</td>\n",
              "      <td>0.0</td>\n",
              "      <td>0.0</td>\n",
              "      <td>0.0</td>\n",
              "      <td>0.0</td>\n",
              "      <td>...</td>\n",
              "      <td>0.0</td>\n",
              "      <td>0.0</td>\n",
              "      <td>0.0</td>\n",
              "      <td>0.0</td>\n",
              "      <td>0.0</td>\n",
              "      <td>0.0</td>\n",
              "      <td>0.0</td>\n",
              "      <td>24.0</td>\n",
              "      <td>6.083333</td>\n",
              "      <td>170.0</td>\n",
              "    </tr>\n",
              "    <tr>\n",
              "      <th>204291</th>\n",
              "      <td>1.0</td>\n",
              "      <td>0.0</td>\n",
              "      <td>0.0</td>\n",
              "      <td>0.0</td>\n",
              "      <td>0.0</td>\n",
              "      <td>0.0</td>\n",
              "      <td>0.0</td>\n",
              "      <td>0.0</td>\n",
              "      <td>0.0</td>\n",
              "      <td>0.0</td>\n",
              "      <td>...</td>\n",
              "      <td>0.0</td>\n",
              "      <td>0.0</td>\n",
              "      <td>0.0</td>\n",
              "      <td>0.0</td>\n",
              "      <td>0.0</td>\n",
              "      <td>0.0</td>\n",
              "      <td>0.0</td>\n",
              "      <td>23.0</td>\n",
              "      <td>5.833333</td>\n",
              "      <td>170.0</td>\n",
              "    </tr>\n",
              "    <tr>\n",
              "      <th>204298</th>\n",
              "      <td>1.0</td>\n",
              "      <td>0.0</td>\n",
              "      <td>0.0</td>\n",
              "      <td>0.0</td>\n",
              "      <td>0.0</td>\n",
              "      <td>0.0</td>\n",
              "      <td>0.0</td>\n",
              "      <td>0.0</td>\n",
              "      <td>0.0</td>\n",
              "      <td>0.0</td>\n",
              "      <td>...</td>\n",
              "      <td>0.0</td>\n",
              "      <td>0.0</td>\n",
              "      <td>0.0</td>\n",
              "      <td>0.0</td>\n",
              "      <td>0.0</td>\n",
              "      <td>0.0</td>\n",
              "      <td>0.0</td>\n",
              "      <td>16.0</td>\n",
              "      <td>5.750000</td>\n",
              "      <td>170.0</td>\n",
              "    </tr>\n",
              "    <tr>\n",
              "      <th>204303</th>\n",
              "      <td>1.0</td>\n",
              "      <td>0.0</td>\n",
              "      <td>0.0</td>\n",
              "      <td>0.0</td>\n",
              "      <td>0.0</td>\n",
              "      <td>0.0</td>\n",
              "      <td>0.0</td>\n",
              "      <td>0.0</td>\n",
              "      <td>0.0</td>\n",
              "      <td>0.0</td>\n",
              "      <td>...</td>\n",
              "      <td>0.0</td>\n",
              "      <td>0.0</td>\n",
              "      <td>0.0</td>\n",
              "      <td>0.0</td>\n",
              "      <td>0.0</td>\n",
              "      <td>0.0</td>\n",
              "      <td>0.0</td>\n",
              "      <td>40.0</td>\n",
              "      <td>5.250000</td>\n",
              "      <td>175.0</td>\n",
              "    </tr>\n",
              "  </tbody>\n",
              "</table>\n",
              "<p>32100 rows × 336 columns</p>\n",
              "</div>\n",
              "      <button class=\"colab-df-convert\" onclick=\"convertToInteractive('df-1a766e23-65fd-4a22-abde-b5ddbbb7a34e')\"\n",
              "              title=\"Convert this dataframe to an interactive table.\"\n",
              "              style=\"display:none;\">\n",
              "        \n",
              "  <svg xmlns=\"http://www.w3.org/2000/svg\" height=\"24px\"viewBox=\"0 0 24 24\"\n",
              "       width=\"24px\">\n",
              "    <path d=\"M0 0h24v24H0V0z\" fill=\"none\"/>\n",
              "    <path d=\"M18.56 5.44l.94 2.06.94-2.06 2.06-.94-2.06-.94-.94-2.06-.94 2.06-2.06.94zm-11 1L8.5 8.5l.94-2.06 2.06-.94-2.06-.94L8.5 2.5l-.94 2.06-2.06.94zm10 10l.94 2.06.94-2.06 2.06-.94-2.06-.94-.94-2.06-.94 2.06-2.06.94z\"/><path d=\"M17.41 7.96l-1.37-1.37c-.4-.4-.92-.59-1.43-.59-.52 0-1.04.2-1.43.59L10.3 9.45l-7.72 7.72c-.78.78-.78 2.05 0 2.83L4 21.41c.39.39.9.59 1.41.59.51 0 1.02-.2 1.41-.59l7.78-7.78 2.81-2.81c.8-.78.8-2.07 0-2.86zM5.41 20L4 18.59l7.72-7.72 1.47 1.35L5.41 20z\"/>\n",
              "  </svg>\n",
              "      </button>\n",
              "      \n",
              "  <style>\n",
              "    .colab-df-container {\n",
              "      display:flex;\n",
              "      flex-wrap:wrap;\n",
              "      gap: 12px;\n",
              "    }\n",
              "\n",
              "    .colab-df-convert {\n",
              "      background-color: #E8F0FE;\n",
              "      border: none;\n",
              "      border-radius: 50%;\n",
              "      cursor: pointer;\n",
              "      display: none;\n",
              "      fill: #1967D2;\n",
              "      height: 32px;\n",
              "      padding: 0 0 0 0;\n",
              "      width: 32px;\n",
              "    }\n",
              "\n",
              "    .colab-df-convert:hover {\n",
              "      background-color: #E2EBFA;\n",
              "      box-shadow: 0px 1px 2px rgba(60, 64, 67, 0.3), 0px 1px 3px 1px rgba(60, 64, 67, 0.15);\n",
              "      fill: #174EA6;\n",
              "    }\n",
              "\n",
              "    [theme=dark] .colab-df-convert {\n",
              "      background-color: #3B4455;\n",
              "      fill: #D2E3FC;\n",
              "    }\n",
              "\n",
              "    [theme=dark] .colab-df-convert:hover {\n",
              "      background-color: #434B5C;\n",
              "      box-shadow: 0px 1px 3px 1px rgba(0, 0, 0, 0.15);\n",
              "      filter: drop-shadow(0px 1px 2px rgba(0, 0, 0, 0.3));\n",
              "      fill: #FFFFFF;\n",
              "    }\n",
              "  </style>\n",
              "\n",
              "      <script>\n",
              "        const buttonEl =\n",
              "          document.querySelector('#df-1a766e23-65fd-4a22-abde-b5ddbbb7a34e button.colab-df-convert');\n",
              "        buttonEl.style.display =\n",
              "          google.colab.kernel.accessAllowed ? 'block' : 'none';\n",
              "\n",
              "        async function convertToInteractive(key) {\n",
              "          const element = document.querySelector('#df-1a766e23-65fd-4a22-abde-b5ddbbb7a34e');\n",
              "          const dataTable =\n",
              "            await google.colab.kernel.invokeFunction('convertToInteractive',\n",
              "                                                     [key], {});\n",
              "          if (!dataTable) return;\n",
              "\n",
              "          const docLinkHtml = 'Like what you see? Visit the ' +\n",
              "            '<a target=\"_blank\" href=https://colab.research.google.com/notebooks/data_table.ipynb>data table notebook</a>'\n",
              "            + ' to learn more about interactive tables.';\n",
              "          element.innerHTML = '';\n",
              "          dataTable['output_type'] = 'display_data';\n",
              "          await google.colab.output.renderOutput(dataTable, element);\n",
              "          const docLink = document.createElement('div');\n",
              "          docLink.innerHTML = docLinkHtml;\n",
              "          element.appendChild(docLink);\n",
              "        }\n",
              "      </script>\n",
              "    </div>\n",
              "  </div>\n",
              "  "
            ]
          },
          "metadata": {},
          "execution_count": 13
        }
      ]
    },
    {
      "cell_type": "markdown",
      "source": [
        "Dmatrix converted/encoded all the textual information (true or false) in each column into numerical values of 0 and 1. For example, if we are looking for data regarding precinct 10, all columns about precinct 10 stop and frisks will show 1 but columns for other precincts will show 0. This is very helpful given that we are doing logistic regression later on in this problem. Logistic regression need numerical values for model fitting."
      ],
      "metadata": {
        "id": "RYo3uwk6-sEW"
      },
      "id": "RYo3uwk6-sEW"
    },
    {
      "cell_type": "markdown",
      "metadata": {
        "id": "AAib9e-WfUdF"
      },
      "source": [
        "**c. As discussed in class, when fitting machine learning models, you should always divide the dataset into a train, val, and test set. Randomly divide the filtered, processed data into three pieces - the train set (60%), the val set (20%) and the test set (20%). (5 points)**"
      ],
      "id": "AAib9e-WfUdF"
    },
    {
      "cell_type": "code",
      "execution_count": 117,
      "metadata": {
        "id": "RtFFt_efacti"
      },
      "outputs": [],
      "source": [
        "# Train set\n",
        "sqf_train = sqf_X.sample(frac=0.6)\n",
        "\n",
        "# Validation set\n",
        "sqf_validation_1 = sqf_X.drop(sqf_train.index)\n",
        "sqf_validation_2 = sqf_validation_1.sample(frac=0.5)\n",
        "\n",
        "# Test set\n",
        "sqf_test = sqf_validation_1.drop(sqf_validation_2.index)\n",
        "sqf_test_copy = sqf_test.copy()"
      ],
      "id": "RtFFt_efacti"
    },
    {
      "cell_type": "code",
      "source": [
        "# Get the dependent variables from the found_weapon column for the next question\n",
        "train_found_weapon = df2_dropped['found_weapon'].loc[sqf_train.index.values]\n",
        "validation_found_weapon = df2_dropped['found_weapon'].loc[sqf_validation_2.index.values]\n",
        "test_found_weapon = df2_dropped['found_weapon'].loc[sqf_test.index.values]"
      ],
      "metadata": {
        "id": "QA95NcMi3P3o"
      },
      "id": "QA95NcMi3P3o",
      "execution_count": 118,
      "outputs": []
    },
    {
      "cell_type": "markdown",
      "metadata": {
        "id": "MWZp2Jw7TKVm"
      },
      "source": [
        "**d. We will be training a regularized logistic regression model to predict the outcome. When using many machine learning models, including regularized logistic regression, it is important to preprocess the input features so they are all on the same scale, for reasons discussed in class. In this case, we will take each column in the input data, subtract its mean, and divide by its standard deviation. This makes it so each column of the data has mean 0 and standard deviation 1.**\n",
        "\n",
        "When scaling the data, it is important to compute the scaling using only the train set, as shown in class. The reason is that we are pretending that the train data is all we have access to to fit our model fitting pipeline, so we cannot \"peek\" at the validation or test sets to generate our scaling. Use sklearn's StandardScaler (https://scikit-learn.org/stable/modules/generated/sklearn.preprocessing.StandardScaler.html) to fit a scaling transform on the train set and transform the train set (you can use the fit_transform method on the train set).Then apply the fitted StandardScaler model to the validation and test sets as well (using the transform --- not the fit --- method). (Look at the notebook we went through in class on regularization and lasso if you are confused.) The transformed datasets are the final datasets you will feed into your logistic regression model. (5 points)"
      ],
      "id": "MWZp2Jw7TKVm"
    },
    {
      "cell_type": "code",
      "execution_count": 119,
      "metadata": {
        "id": "5olW55l8acti"
      },
      "outputs": [],
      "source": [
        "from sklearn.preprocessing import StandardScaler\n",
        "\n",
        "scaler = StandardScaler()\n",
        "\n",
        "# Transform train set, validation set, and test set using scaler\n",
        "sqf_train = scaler.fit_transform(sqf_train)\n",
        "sqf_validation_2 = scaler.transform(sqf_validation_2)\n",
        "sqf_test = scaler.transform(sqf_test)"
      ],
      "id": "5olW55l8acti"
    },
    {
      "cell_type": "markdown",
      "metadata": {
        "id": "involved-implement"
      },
      "source": [
        "**e. Using sklearn.linear_model.LogisticRegression, fit a model on the train set to predict found_weapon. Set the \"penalty\" argument to \"none\" so that the model will not use any regularization; this corresponds to fitting a regular logistic regression model. If you get a `ConvergenceWarning`, increase the number of iterations using the `max_iter` argument; this means the model optimization needs more iterations to converge. (Look at the [documentation](https://scikit-learn.org/stable/modules/generated/sklearn.linear_model.LogisticRegression.html) if you are uncertain which arguments to use!)**\n",
        "\n",
        "A standard measure of predictive performance for binary outcome variables like found_weapon is AUC. Higher values of AUC are better; an AUC of 1 means that the model is perfectly predicting the outcome; an AUC of 0.5 means that it is predicting it only as well as random chance. Report the AUC of the fitted model (https://scikit-learn.org/stable/modules/generated/sklearn.metrics.roc_auc_score.html) on both the train and validation sets. What is the problem with using accuracy as a metric for this task? How does the train set AUC differ from the validation AUC, and does this make sense? (7 points)"
      ],
      "id": "involved-implement"
    },
    {
      "cell_type": "code",
      "execution_count": 120,
      "metadata": {
        "id": "6W1lviIFacti",
        "colab": {
          "base_uri": "https://localhost:8080/"
        },
        "outputId": "6e5f8841-8219-4977-d3e3-ec39fe5c6eaf"
      },
      "outputs": [
        {
          "output_type": "execute_result",
          "data": {
            "text/plain": [
              "LogisticRegression(max_iter=1500, penalty='none')"
            ]
          },
          "metadata": {},
          "execution_count": 120
        }
      ],
      "source": [
        "from sklearn.linear_model import LogisticRegression as logReg\n",
        "from sklearn import metrics\n",
        "\n",
        "# Fit a logistic regression model on found_weapon column\n",
        "found_weapon_reg = logReg(penalty='none', max_iter=1500)\n",
        "found_weapon_reg.fit(sqf_train, train_found_weapon)"
      ],
      "id": "6W1lviIFacti"
    },
    {
      "cell_type": "code",
      "source": [
        "# Calculate the AUC of fitted model using sklearn\n",
        "predicted_val_train = found_weapon_reg.predict_proba(sqf_train)[::,1]\n",
        "train_auc = metrics.roc_auc_score(train_found_weapon, predicted_val_train)\n",
        "print(\"AUC of training set:\", train_auc)\n",
        "\n",
        "# Calculate the AUC of validation set\n",
        "predicted_val_validation = found_weapon_reg.predict_proba(sqf_validation_2)[::,1]\n",
        "validation_auc = metrics.roc_auc_score(validation_found_weapon, predicted_val_validation)\n",
        "print(\"AUC of validation set:\", validation_auc)"
      ],
      "metadata": {
        "colab": {
          "base_uri": "https://localhost:8080/"
        },
        "id": "bD18CGO14y8B",
        "outputId": "04c4b396-c1dc-4c5f-91d9-8b8982f4f1c3"
      },
      "id": "bD18CGO14y8B",
      "execution_count": 121,
      "outputs": [
        {
          "output_type": "stream",
          "name": "stdout",
          "text": [
            "AUC of training set: 0.8363328538894882\n",
            "AUC of validation set: 0.7498650253752295\n"
          ]
        }
      ]
    },
    {
      "cell_type": "markdown",
      "metadata": {
        "id": "1Ep5iHbBhn1z"
      },
      "source": [
        "The problem with using accuracy as a metric for this task is that the data itself is tinted with discrimination. We believe that there is a correlation between the race of the person who is stopped and frisked and how often they are stopped. In fact, based on our answer to the first question, we already calcualated such positive correlation for Black and Hispanic population, and a negative correlation for White population. \n",
        "As for why we have different AUC for test set and validation set, we could have overfitted our data because of this inherent bias in the dataset, that is why the performance of the validation set is lower."
      ],
      "id": "1Ep5iHbBhn1z"
    },
    {
      "cell_type": "markdown",
      "metadata": {
        "id": "eight-absorption"
      },
      "source": [
        "**f. Our logistic regression model is not using any regularization and appears to be overfitting. We will try to use regularization to reduce overfitting. You will be fitting an L1-penalized logistic regression model using code that looks something like**\n",
        "\n",
        "`LogisticRegression(C=sparsity_param, penalty='l1', solver='liblinear')`\n",
        "\n",
        "(the \"l1\" specifies that we're using an L1 penalty, as discussed in class; the \"liblinear\" solver is an optimizer that works with the L1 penalty. See the logistic regression documentation for more details.) \n",
        "\n",
        "Increase and decrease the amount of regularization using different values of the C parameter, searching logarithmically over at least 20 values in the range from 1e-2 to 1. (Note: we do not recommend defining a variable named \"C\" in your code, because this may cause weird patsy issues, since patsy also uses \"C\". Give the variable another name. Sorry! I complained to the patsy people.) \n",
        "\n",
        "People generally use logarithmic, not linear spacing, for regularization hyperparameters, because it can be hard to know the appropriate scale - so eg [0.001, 0.01, 0.1, 1, 10] not [1, 2, 3, 4, 5]. Here, we want you to generate logarithmically spaced values between 1e-2 to 1. In general, you can generate logarithmically spaced values by searching over 10**X (the double stars mean raise 10 to the power of X) where X is a linearly spaced vector like [1, 2, 3, 4, 5]. In this case, choose X so you get the appropriate endpoints. Another best practice when searching over hyperparameters is to confirm that whichever one you choose is not on the edge of the space.\n",
        "\n",
        "Print out the train set, val set, and test set AUC for each value of of the regularization parameter. Make a plot where the x-axis is the regularization parameter and the y-axis is AUC, with one line for train AUC, one line for val AUC, and one line for test AUC (use plt.semilogx to plot the lines so the x-axis will be logarithmic, making it easier to see the plot). Comment on the trends. Do you see evidence of overfitting? Explain. For the rest of this assignment, use the model with the highest AUC on the validation set. (10 points)\n",
        "\n",
        "In a full analysis, it would make sense to play with other aspects of the model as well: for example, you could try using other forms of regularization (like L1 vs L2) or other classification algorithms besides logistic regression. The basic pattern, though, would be the same: fit the model on the train set, choose models on the val set, and once you've chosen your best model, assess your results (once!) on the test set."
      ],
      "id": "eight-absorption"
    },
    {
      "cell_type": "code",
      "execution_count": 122,
      "metadata": {
        "id": "AVchP4QMactj",
        "colab": {
          "base_uri": "https://localhost:8080/"
        },
        "outputId": "2124f8df-824e-454c-b5e8-0c061a2ba6fd"
      },
      "outputs": [
        {
          "output_type": "stream",
          "name": "stdout",
          "text": [
            "[0.01       0.01274275 0.01623777 0.02069138 0.02636651 0.03359818\n",
            " 0.04281332 0.05455595 0.06951928 0.08858668 0.11288379 0.14384499\n",
            " 0.18329807 0.23357215 0.29763514 0.37926902 0.48329302 0.61584821\n",
            " 0.78475997 1.        ]\n"
          ]
        }
      ],
      "source": [
        "import numpy as np\n",
        "\n",
        "# Generate logarithmically spaced values using numpy\n",
        "log_val = np.logspace(-2, 0, num=20)\n",
        "print(log_val)"
      ],
      "id": "AVchP4QMactj"
    },
    {
      "cell_type": "code",
      "source": [
        "# Arrays to store AUC values\n",
        "auc_train = []\n",
        "auc_validation = []\n",
        "auc_test = []"
      ],
      "metadata": {
        "id": "qemPkuzcDdeV"
      },
      "id": "qemPkuzcDdeV",
      "execution_count": 123,
      "outputs": []
    },
    {
      "cell_type": "code",
      "source": [
        "# Calculate AUC for train set, validation set, and test set with each log value\n",
        "for val in log_val:\n",
        "  reg_model = logReg(C=val, penalty='l1', solver='liblinear')\n",
        "  reg_model.fit(sqf_train, train_found_weapon)\n",
        "  print(\"\\nLog value: \",val)\n",
        "\n",
        "  # Train set (same steps as question(e)) \n",
        "  predicted_val_train = reg_model.predict_proba(sqf_train)[::,1]\n",
        "  train_auc = metrics.roc_auc_score(train_found_weapon, predicted_val_train)\n",
        "  auc_train.append(train_auc)\n",
        "  print(\"AUC of training set:\", train_auc)\n",
        "\n",
        "  # Validation set (same steps as question(e)) \n",
        "  predicted_val_validation = reg_model.predict_proba(sqf_validation_2)[::,1]\n",
        "  validation_auc = metrics.roc_auc_score(validation_found_weapon, predicted_val_validation)\n",
        "  auc_validation.append(validation_auc)\n",
        "  print(\"AUC of validation set:\", validation_auc)\n",
        "\n",
        "  # Test set (same steps as question(e)) \n",
        "  predicted_val_test = reg_model.predict_proba(sqf_test)[::,1]\n",
        "  test_auc = metrics.roc_auc_score(test_found_weapon, predicted_val_test)\n",
        "  auc_test.append(test_auc)\n",
        "  print(\"AUC of test set:\", test_auc)"
      ],
      "metadata": {
        "colab": {
          "base_uri": "https://localhost:8080/"
        },
        "id": "t_hRbKFK-SP4",
        "outputId": "7a5f261f-ed9a-462d-b94a-0f211fcdf993"
      },
      "id": "t_hRbKFK-SP4",
      "execution_count": 124,
      "outputs": [
        {
          "output_type": "stream",
          "name": "stdout",
          "text": [
            "\n",
            "Log value:  0.01\n",
            "AUC of training set: 0.7595560649646411\n",
            "AUC of validation set: 0.7803788375590268\n",
            "AUC of test set: 0.7727568380959631\n",
            "\n",
            "Log value:  0.012742749857031334\n",
            "AUC of training set: 0.7696676854848377\n",
            "AUC of validation set: 0.7857686047705958\n",
            "AUC of test set: 0.7742718083674751\n",
            "\n",
            "Log value:  0.016237767391887217\n",
            "AUC of training set: 0.77941511596548\n",
            "AUC of validation set: 0.7884680972660066\n",
            "AUC of test set: 0.7764511498549598\n",
            "\n",
            "Log value:  0.0206913808111479\n",
            "AUC of training set: 0.7876336075152823\n",
            "AUC of validation set: 0.7881895886500168\n",
            "AUC of test set: 0.776894630385315\n",
            "\n",
            "Log value:  0.026366508987303583\n",
            "AUC of training set: 0.7973991669663192\n",
            "AUC of validation set: 0.7864833118690759\n",
            "AUC of test set: 0.7760158252883813\n",
            "\n",
            "Log value:  0.03359818286283781\n",
            "AUC of training set: 0.8061952010667626\n",
            "AUC of validation set: 0.7885895744283002\n",
            "AUC of test set: 0.776542564615623\n",
            "\n",
            "Log value:  0.04281332398719394\n",
            "AUC of training set: 0.8137878685724559\n",
            "AUC of validation set: 0.7897770219198791\n",
            "AUC of test set: 0.77769085634901\n",
            "\n",
            "Log value:  0.0545559478116852\n",
            "AUC of training set: 0.8193534250269687\n",
            "AUC of validation set: 0.7895373596593108\n",
            "AUC of test set: 0.7778961147707222\n",
            "\n",
            "Log value:  0.06951927961775606\n",
            "AUC of training set: 0.8235151848855329\n",
            "AUC of validation set: 0.7884516369459127\n",
            "AUC of test set: 0.7768188478885569\n",
            "\n",
            "Log value:  0.08858667904100823\n",
            "AUC of training set: 0.8260732799952056\n",
            "AUC of validation set: 0.7871611478505455\n",
            "AUC of test set: 0.7753541727270009\n",
            "\n",
            "Log value:  0.11288378916846889\n",
            "AUC of training set: 0.8281397578808584\n",
            "AUC of validation set: 0.7858459682750375\n",
            "AUC of test set: 0.7739459096482333\n",
            "\n",
            "Log value:  0.14384498882876628\n",
            "AUC of training set: 0.829575842023253\n",
            "AUC of validation set: 0.7839635660690912\n",
            "AUC of test set: 0.7723908392214862\n",
            "\n",
            "Log value:  0.18329807108324356\n",
            "AUC of training set: 0.8306058971592952\n",
            "AUC of validation set: 0.7812923853242422\n",
            "AUC of test set: 0.7707752787300621\n",
            "\n",
            "Log value:  0.23357214690901212\n",
            "AUC of training set: 0.8315330966079348\n",
            "AUC of validation set: 0.7784315816919102\n",
            "AUC of test set: 0.7696769422748071\n",
            "\n",
            "Log value:  0.29763514416313175\n",
            "AUC of training set: 0.8325361081145871\n",
            "AUC of validation set: 0.7755688028211671\n",
            "AUC of test set: 0.7683604337885268\n",
            "\n",
            "Log value:  0.37926901907322497\n",
            "AUC of training set: 0.8333106346637901\n",
            "AUC of validation set: 0.7729009141403368\n",
            "AUC of test set: 0.7665797150306256\n",
            "\n",
            "Log value:  0.4832930238571752\n",
            "AUC of training set: 0.8338784010547764\n",
            "AUC of validation set: 0.770364708020258\n",
            "AUC of test set: 0.7646725788341865\n",
            "\n",
            "Log value:  0.615848211066026\n",
            "AUC of training set: 0.8343872108354309\n",
            "AUC of validation set: 0.7679990308163529\n",
            "AUC of test set: 0.7626641727541874\n",
            "\n",
            "Log value:  0.7847599703514611\n",
            "AUC of training set: 0.8347379539733908\n",
            "AUC of validation set: 0.7663292959460205\n",
            "AUC of test set: 0.7608997659238396\n",
            "\n",
            "Log value:  1.0\n",
            "AUC of training set: 0.834973405849215\n",
            "AUC of validation set: 0.7643613000755857\n",
            "AUC of test set: 0.7592298323405712\n"
          ]
        }
      ]
    },
    {
      "cell_type": "code",
      "source": [
        "import matplotlib.pyplot as plt\n",
        "\n",
        "# Plot the AUC values of train, validation, and test set against the regularization parameter log values\n",
        "plt.semilogx(log_val, auc_train, label='Train Set')\n",
        "plt.semilogx(log_val, auc_validation, label='Validation Set')\n",
        "plt.semilogx(log_val, auc_test, label='Test Set')\n",
        "plt.xlabel(\"Regularization Parameter\")\n",
        "plt.ylabel(\"AUC Value\")\n",
        "plt.legend()\n",
        "plt.show"
      ],
      "metadata": {
        "colab": {
          "base_uri": "https://localhost:8080/",
          "height": 300
        },
        "id": "cPSQCvFZFiOT",
        "outputId": "7afe5ec8-d65d-426f-8fec-9c0c7429d0b9"
      },
      "id": "cPSQCvFZFiOT",
      "execution_count": 125,
      "outputs": [
        {
          "output_type": "execute_result",
          "data": {
            "text/plain": [
              "<function matplotlib.pyplot.show(*args, **kw)>"
            ]
          },
          "metadata": {},
          "execution_count": 125
        },
        {
          "output_type": "display_data",
          "data": {
            "text/plain": [
              "<Figure size 432x288 with 1 Axes>"
            ],
            "image/png": "[encoded data removed]"
          },
          "metadata": {
            "needs_background": "light"
          }
        }
      ]
    },
    {
      "cell_type": "markdown",
      "metadata": {
        "id": "owMXSAmTeInj"
      },
      "source": [
        "Yes, we see evidence of overfitting. The AUC value of the training set increases quickly before around the value of 0.08. After that, it still continues to climb, but very slowly. On the other hand, for the test set, AUC starts to quickly go down after 0.08. For the balidation set, AUC starts to go down after about 0.03. All of these demonstrate that we have overfitted our model after a log value in betwen 0.03 and 0.08 - the performance of the train set keeps improving, but it does not generalize to validation and test set."
      ],
      "id": "owMXSAmTeInj"
    },
    {
      "cell_type": "code",
      "source": [
        "# Find out the max AUC value of the validation set and the corresponding log value\n",
        "max_val_auc = max(auc_validation)\n",
        "max_val_log = log_val[auc_validation.index(max_val_auc)]\n",
        "print(\"Maximum AUC: \", max_val_auc, \"\\nCorrespinding log value: \", max_val_log)"
      ],
      "metadata": {
        "colab": {
          "base_uri": "https://localhost:8080/"
        },
        "id": "MWPO0G4hRBPZ",
        "outputId": "34ffab83-7c41-4e76-97b4-9724c77d52f8"
      },
      "id": "MWPO0G4hRBPZ",
      "execution_count": 126,
      "outputs": [
        {
          "output_type": "stream",
          "name": "stdout",
          "text": [
            "Maximum AUC:  0.7897770219198791 \n",
            "Correspinding log value:  0.04281332398719394\n"
          ]
        }
      ]
    },
    {
      "cell_type": "markdown",
      "metadata": {
        "id": "antique-connection"
      },
      "source": [
        "**g. Assess model *calibration* on the test set. This checks whether the model's predicted probabilities line up with the true probabilities, and is important to assess here because we will be analyzing the model's predicted probabilities. To assess calibration, take the 10% of rows of the test set with the highest model predictions and compare the mean model predicted probability (ie, the output of `predict_proba`) to the actual mean of the outcome variable. Repeat for the next 10% of rows, and for all 10% groups. Make a plot comparing the model predicted probabilities on each 10% group to the actual outcomes (mean predicted probability on the x-axis and mean actual outcome on the y-axis). You should end up with a plot with 10 points, one for each 10% group. Plot the line y=x so you can see how well the predicted probabilities line up with the actual probabilities - ideally, your points will lie on the line or close to it. (10 points)**\n",
        "\n",
        "Calibration is an issue for many machine learning models, including deep learning models, so this is always a good thing to check. In a full analysis, it would make sense to check calibration (and AUC) for subgroups as well (eg, each race group). "
      ],
      "id": "antique-connection"
    },
    {
      "cell_type": "code",
      "execution_count": 127,
      "metadata": {
        "id": "CAFciglqactj",
        "colab": {
          "base_uri": "https://localhost:8080/",
          "height": 424
        },
        "outputId": "8c650c85-5f95-4ab5-c16b-dc33f25a8dd1"
      },
      "outputs": [
        {
          "output_type": "execute_result",
          "data": {
            "text/plain": [
              "        Predicted Value  found_weapon\n",
              "57             0.014667         False\n",
              "149            0.025733         False\n",
              "211            0.022933         False\n",
              "225            0.035491         False\n",
              "241            0.051532         False\n",
              "...                 ...           ...\n",
              "204201         0.555000          True\n",
              "204217         0.023492         False\n",
              "204238         0.028642         False\n",
              "204251         0.023593         False\n",
              "204253         0.011798         False\n",
              "\n",
              "[6420 rows x 2 columns]"
            ],
            "text/html": [
              "\n",
              "  <div id=\"df-a23a0455-9762-4994-a74d-68dea406e6fd\">\n",
              "    <div class=\"colab-df-container\">\n",
              "      <div>\n",
              "<style scoped>\n",
              "    .dataframe tbody tr th:only-of-type {\n",
              "        vertical-align: middle;\n",
              "    }\n",
              "\n",
              "    .dataframe tbody tr th {\n",
              "        vertical-align: top;\n",
              "    }\n",
              "\n",
              "    .dataframe thead th {\n",
              "        text-align: right;\n",
              "    }\n",
              "</style>\n",
              "<table border=\"1\" class=\"dataframe\">\n",
              "  <thead>\n",
              "    <tr style=\"text-align: right;\">\n",
              "      <th></th>\n",
              "      <th>Predicted Value</th>\n",
              "      <th>found_weapon</th>\n",
              "    </tr>\n",
              "  </thead>\n",
              "  <tbody>\n",
              "    <tr>\n",
              "      <th>57</th>\n",
              "      <td>0.014667</td>\n",
              "      <td>False</td>\n",
              "    </tr>\n",
              "    <tr>\n",
              "      <th>149</th>\n",
              "      <td>0.025733</td>\n",
              "      <td>False</td>\n",
              "    </tr>\n",
              "    <tr>\n",
              "      <th>211</th>\n",
              "      <td>0.022933</td>\n",
              "      <td>False</td>\n",
              "    </tr>\n",
              "    <tr>\n",
              "      <th>225</th>\n",
              "      <td>0.035491</td>\n",
              "      <td>False</td>\n",
              "    </tr>\n",
              "    <tr>\n",
              "      <th>241</th>\n",
              "      <td>0.051532</td>\n",
              "      <td>False</td>\n",
              "    </tr>\n",
              "    <tr>\n",
              "      <th>...</th>\n",
              "      <td>...</td>\n",
              "      <td>...</td>\n",
              "    </tr>\n",
              "    <tr>\n",
              "      <th>204201</th>\n",
              "      <td>0.555000</td>\n",
              "      <td>True</td>\n",
              "    </tr>\n",
              "    <tr>\n",
              "      <th>204217</th>\n",
              "      <td>0.023492</td>\n",
              "      <td>False</td>\n",
              "    </tr>\n",
              "    <tr>\n",
              "      <th>204238</th>\n",
              "      <td>0.028642</td>\n",
              "      <td>False</td>\n",
              "    </tr>\n",
              "    <tr>\n",
              "      <th>204251</th>\n",
              "      <td>0.023593</td>\n",
              "      <td>False</td>\n",
              "    </tr>\n",
              "    <tr>\n",
              "      <th>204253</th>\n",
              "      <td>0.011798</td>\n",
              "      <td>False</td>\n",
              "    </tr>\n",
              "  </tbody>\n",
              "</table>\n",
              "<p>6420 rows × 2 columns</p>\n",
              "</div>\n",
              "      <button class=\"colab-df-convert\" onclick=\"convertToInteractive('df-a23a0455-9762-4994-a74d-68dea406e6fd')\"\n",
              "              title=\"Convert this dataframe to an interactive table.\"\n",
              "              style=\"display:none;\">\n",
              "        \n",
              "  <svg xmlns=\"http://www.w3.org/2000/svg\" height=\"24px\"viewBox=\"0 0 24 24\"\n",
              "       width=\"24px\">\n",
              "    <path d=\"M0 0h24v24H0V0z\" fill=\"none\"/>\n",
              "    <path d=\"M18.56 5.44l.94 2.06.94-2.06 2.06-.94-2.06-.94-.94-2.06-.94 2.06-2.06.94zm-11 1L8.5 8.5l.94-2.06 2.06-.94-2.06-.94L8.5 2.5l-.94 2.06-2.06.94zm10 10l.94 2.06.94-2.06 2.06-.94-2.06-.94-.94-2.06-.94 2.06-2.06.94z\"/><path d=\"M17.41 7.96l-1.37-1.37c-.4-.4-.92-.59-1.43-.59-.52 0-1.04.2-1.43.59L10.3 9.45l-7.72 7.72c-.78.78-.78 2.05 0 2.83L4 21.41c.39.39.9.59 1.41.59.51 0 1.02-.2 1.41-.59l7.78-7.78 2.81-2.81c.8-.78.8-2.07 0-2.86zM5.41 20L4 18.59l7.72-7.72 1.47 1.35L5.41 20z\"/>\n",
              "  </svg>\n",
              "      </button>\n",
              "      \n",
              "  <style>\n",
              "    .colab-df-container {\n",
              "      display:flex;\n",
              "      flex-wrap:wrap;\n",
              "      gap: 12px;\n",
              "    }\n",
              "\n",
              "    .colab-df-convert {\n",
              "      background-color: #E8F0FE;\n",
              "      border: none;\n",
              "      border-radius: 50%;\n",
              "      cursor: pointer;\n",
              "      display: none;\n",
              "      fill: #1967D2;\n",
              "      height: 32px;\n",
              "      padding: 0 0 0 0;\n",
              "      width: 32px;\n",
              "    }\n",
              "\n",
              "    .colab-df-convert:hover {\n",
              "      background-color: #E2EBFA;\n",
              "      box-shadow: 0px 1px 2px rgba(60, 64, 67, 0.3), 0px 1px 3px 1px rgba(60, 64, 67, 0.15);\n",
              "      fill: #174EA6;\n",
              "    }\n",
              "\n",
              "    [theme=dark] .colab-df-convert {\n",
              "      background-color: #3B4455;\n",
              "      fill: #D2E3FC;\n",
              "    }\n",
              "\n",
              "    [theme=dark] .colab-df-convert:hover {\n",
              "      background-color: #434B5C;\n",
              "      box-shadow: 0px 1px 3px 1px rgba(0, 0, 0, 0.15);\n",
              "      filter: drop-shadow(0px 1px 2px rgba(0, 0, 0, 0.3));\n",
              "      fill: #FFFFFF;\n",
              "    }\n",
              "  </style>\n",
              "\n",
              "      <script>\n",
              "        const buttonEl =\n",
              "          document.querySelector('#df-a23a0455-9762-4994-a74d-68dea406e6fd button.colab-df-convert');\n",
              "        buttonEl.style.display =\n",
              "          google.colab.kernel.accessAllowed ? 'block' : 'none';\n",
              "\n",
              "        async function convertToInteractive(key) {\n",
              "          const element = document.querySelector('#df-a23a0455-9762-4994-a74d-68dea406e6fd');\n",
              "          const dataTable =\n",
              "            await google.colab.kernel.invokeFunction('convertToInteractive',\n",
              "                                                     [key], {});\n",
              "          if (!dataTable) return;\n",
              "\n",
              "          const docLinkHtml = 'Like what you see? Visit the ' +\n",
              "            '<a target=\"_blank\" href=https://colab.research.google.com/notebooks/data_table.ipynb>data table notebook</a>'\n",
              "            + ' to learn more about interactive tables.';\n",
              "          element.innerHTML = '';\n",
              "          dataTable['output_type'] = 'display_data';\n",
              "          await google.colab.output.renderOutput(dataTable, element);\n",
              "          const docLink = document.createElement('div');\n",
              "          docLink.innerHTML = docLinkHtml;\n",
              "          element.appendChild(docLink);\n",
              "        }\n",
              "      </script>\n",
              "    </div>\n",
              "  </div>\n",
              "  "
            ]
          },
          "metadata": {},
          "execution_count": 127
        }
      ],
      "source": [
        "# Fit a new logistic regression model with parameters from the highest AUC on validation set\n",
        "reg_model_new = logReg(C=max_val_log, penalty='l1', solver='liblinear')\n",
        "reg_model_new.fit(sqf_train, train_found_weapon)\n",
        "\n",
        "# Predict with test set\n",
        "test_predicted = reg_model_new.predict_proba(sqf_test)[::,1]\n",
        "\n",
        "# Create a new dataframe combining prediction and true values\n",
        "predicted_set = pd.DataFrame({\"Predicted Value\":test_predicted}, index=test_found_weapon.index)\n",
        "test_true = pd.concat([predicted_set, test_found_weapon], axis=1)\n",
        "test_true"
      ],
      "id": "CAFciglqactj"
    },
    {
      "cell_type": "code",
      "source": [
        "# Encode found_weapon column to numerical values and sort model predictions from highest to lowest\n",
        "test_true['found_weapon'] = test_true['found_weapon'].astype(int)\n",
        "test_true = test_true.sort_values(by=['Predicted Value'], ascending=False)\n",
        "test_true"
      ],
      "metadata": {
        "colab": {
          "base_uri": "https://localhost:8080/",
          "height": 424
        },
        "id": "3E6xzyBjYFBG",
        "outputId": "56147832-e99d-4745-ddfb-cdafb2bcc0ea"
      },
      "id": "3E6xzyBjYFBG",
      "execution_count": 128,
      "outputs": [
        {
          "output_type": "execute_result",
          "data": {
            "text/plain": [
              "        Predicted Value  found_weapon\n",
              "142568         0.955049             1\n",
              "203928         0.912134             1\n",
              "145642         0.905097             1\n",
              "70601          0.884284             1\n",
              "162249         0.867473             0\n",
              "...                 ...           ...\n",
              "120684         0.003860             0\n",
              "80774          0.003787             0\n",
              "64701          0.003744             0\n",
              "1053           0.002528             0\n",
              "156040         0.002368             0\n",
              "\n",
              "[6420 rows x 2 columns]"
            ],
            "text/html": [
              "\n",
              "  <div id=\"df-5cc8ccd3-8fa4-4a39-8203-2febb9d99b42\">\n",
              "    <div class=\"colab-df-container\">\n",
              "      <div>\n",
              "<style scoped>\n",
              "    .dataframe tbody tr th:only-of-type {\n",
              "        vertical-align: middle;\n",
              "    }\n",
              "\n",
              "    .dataframe tbody tr th {\n",
              "        vertical-align: top;\n",
              "    }\n",
              "\n",
              "    .dataframe thead th {\n",
              "        text-align: right;\n",
              "    }\n",
              "</style>\n",
              "<table border=\"1\" class=\"dataframe\">\n",
              "  <thead>\n",
              "    <tr style=\"text-align: right;\">\n",
              "      <th></th>\n",
              "      <th>Predicted Value</th>\n",
              "      <th>found_weapon</th>\n",
              "    </tr>\n",
              "  </thead>\n",
              "  <tbody>\n",
              "    <tr>\n",
              "      <th>142568</th>\n",
              "      <td>0.955049</td>\n",
              "      <td>1</td>\n",
              "    </tr>\n",
              "    <tr>\n",
              "      <th>203928</th>\n",
              "      <td>0.912134</td>\n",
              "      <td>1</td>\n",
              "    </tr>\n",
              "    <tr>\n",
              "      <th>145642</th>\n",
              "      <td>0.905097</td>\n",
              "      <td>1</td>\n",
              "    </tr>\n",
              "    <tr>\n",
              "      <th>70601</th>\n",
              "      <td>0.884284</td>\n",
              "      <td>1</td>\n",
              "    </tr>\n",
              "    <tr>\n",
              "      <th>162249</th>\n",
              "      <td>0.867473</td>\n",
              "      <td>0</td>\n",
              "    </tr>\n",
              "    <tr>\n",
              "      <th>...</th>\n",
              "      <td>...</td>\n",
              "      <td>...</td>\n",
              "    </tr>\n",
              "    <tr>\n",
              "      <th>120684</th>\n",
              "      <td>0.003860</td>\n",
              "      <td>0</td>\n",
              "    </tr>\n",
              "    <tr>\n",
              "      <th>80774</th>\n",
              "      <td>0.003787</td>\n",
              "      <td>0</td>\n",
              "    </tr>\n",
              "    <tr>\n",
              "      <th>64701</th>\n",
              "      <td>0.003744</td>\n",
              "      <td>0</td>\n",
              "    </tr>\n",
              "    <tr>\n",
              "      <th>1053</th>\n",
              "      <td>0.002528</td>\n",
              "      <td>0</td>\n",
              "    </tr>\n",
              "    <tr>\n",
              "      <th>156040</th>\n",
              "      <td>0.002368</td>\n",
              "      <td>0</td>\n",
              "    </tr>\n",
              "  </tbody>\n",
              "</table>\n",
              "<p>6420 rows × 2 columns</p>\n",
              "</div>\n",
              "      <button class=\"colab-df-convert\" onclick=\"convertToInteractive('df-5cc8ccd3-8fa4-4a39-8203-2febb9d99b42')\"\n",
              "              title=\"Convert this dataframe to an interactive table.\"\n",
              "              style=\"display:none;\">\n",
              "        \n",
              "  <svg xmlns=\"http://www.w3.org/2000/svg\" height=\"24px\"viewBox=\"0 0 24 24\"\n",
              "       width=\"24px\">\n",
              "    <path d=\"M0 0h24v24H0V0z\" fill=\"none\"/>\n",
              "    <path d=\"M18.56 5.44l.94 2.06.94-2.06 2.06-.94-2.06-.94-.94-2.06-.94 2.06-2.06.94zm-11 1L8.5 8.5l.94-2.06 2.06-.94-2.06-.94L8.5 2.5l-.94 2.06-2.06.94zm10 10l.94 2.06.94-2.06 2.06-.94-2.06-.94-.94-2.06-.94 2.06-2.06.94z\"/><path d=\"M17.41 7.96l-1.37-1.37c-.4-.4-.92-.59-1.43-.59-.52 0-1.04.2-1.43.59L10.3 9.45l-7.72 7.72c-.78.78-.78 2.05 0 2.83L4 21.41c.39.39.9.59 1.41.59.51 0 1.02-.2 1.41-.59l7.78-7.78 2.81-2.81c.8-.78.8-2.07 0-2.86zM5.41 20L4 18.59l7.72-7.72 1.47 1.35L5.41 20z\"/>\n",
              "  </svg>\n",
              "      </button>\n",
              "      \n",
              "  <style>\n",
              "    .colab-df-container {\n",
              "      display:flex;\n",
              "      flex-wrap:wrap;\n",
              "      gap: 12px;\n",
              "    }\n",
              "\n",
              "    .colab-df-convert {\n",
              "      background-color: #E8F0FE;\n",
              "      border: none;\n",
              "      border-radius: 50%;\n",
              "      cursor: pointer;\n",
              "      display: none;\n",
              "      fill: #1967D2;\n",
              "      height: 32px;\n",
              "      padding: 0 0 0 0;\n",
              "      width: 32px;\n",
              "    }\n",
              "\n",
              "    .colab-df-convert:hover {\n",
              "      background-color: #E2EBFA;\n",
              "      box-shadow: 0px 1px 2px rgba(60, 64, 67, 0.3), 0px 1px 3px 1px rgba(60, 64, 67, 0.15);\n",
              "      fill: #174EA6;\n",
              "    }\n",
              "\n",
              "    [theme=dark] .colab-df-convert {\n",
              "      background-color: #3B4455;\n",
              "      fill: #D2E3FC;\n",
              "    }\n",
              "\n",
              "    [theme=dark] .colab-df-convert:hover {\n",
              "      background-color: #434B5C;\n",
              "      box-shadow: 0px 1px 3px 1px rgba(0, 0, 0, 0.15);\n",
              "      filter: drop-shadow(0px 1px 2px rgba(0, 0, 0, 0.3));\n",
              "      fill: #FFFFFF;\n",
              "    }\n",
              "  </style>\n",
              "\n",
              "      <script>\n",
              "        const buttonEl =\n",
              "          document.querySelector('#df-5cc8ccd3-8fa4-4a39-8203-2febb9d99b42 button.colab-df-convert');\n",
              "        buttonEl.style.display =\n",
              "          google.colab.kernel.accessAllowed ? 'block' : 'none';\n",
              "\n",
              "        async function convertToInteractive(key) {\n",
              "          const element = document.querySelector('#df-5cc8ccd3-8fa4-4a39-8203-2febb9d99b42');\n",
              "          const dataTable =\n",
              "            await google.colab.kernel.invokeFunction('convertToInteractive',\n",
              "                                                     [key], {});\n",
              "          if (!dataTable) return;\n",
              "\n",
              "          const docLinkHtml = 'Like what you see? Visit the ' +\n",
              "            '<a target=\"_blank\" href=https://colab.research.google.com/notebooks/data_table.ipynb>data table notebook</a>'\n",
              "            + ' to learn more about interactive tables.';\n",
              "          element.innerHTML = '';\n",
              "          dataTable['output_type'] = 'display_data';\n",
              "          await google.colab.output.renderOutput(dataTable, element);\n",
              "          const docLink = document.createElement('div');\n",
              "          docLink.innerHTML = docLinkHtml;\n",
              "          element.appendChild(docLink);\n",
              "        }\n",
              "      </script>\n",
              "    </div>\n",
              "  </div>\n",
              "  "
            ]
          },
          "metadata": {},
          "execution_count": 128
        }
      ]
    },
    {
      "cell_type": "code",
      "source": [
        "# Create two empty arrays to store mean of predicted probability and actual probability\n",
        "copy_test_true = test_true.copy()\n",
        "predicted_mean = []\n",
        "true_mean = []\n",
        "\n",
        "# Calculate the number of 10% of rows\n",
        "row = copy_test_true.shape[0]//10\n",
        "\n",
        "# For every 10% of rows, calculate the mean of predicted probability and actual probability, and store in corresponding array\n",
        "for i in range(0, copy_test_true.shape[0] + 1, row):\n",
        "  calib_10 = copy_test_true.head(i)\n",
        "  mean_predicted = calib_10['Predicted Value'].mean()\n",
        "  predicted_mean.append(mean_predicted)\n",
        "  mean_true = calib_10['found_weapon'].mean()\n",
        "  true_mean.append(mean_true)"
      ],
      "metadata": {
        "id": "sxR0SlCfThvO"
      },
      "id": "sxR0SlCfThvO",
      "execution_count": 129,
      "outputs": []
    },
    {
      "cell_type": "code",
      "source": [
        "# Remove the first null value of the mean array\n",
        "predicted_mean = predicted_mean[1:11]\n",
        "true_mean = true_mean[1:11]\n",
        "print(len(predicted_mean))\n",
        "print(len(true_mean))"
      ],
      "metadata": {
        "colab": {
          "base_uri": "https://localhost:8080/"
        },
        "id": "MP16SBtUkWyh",
        "outputId": "25f4214d-f9d2-416d-edc6-3ea09e399413"
      },
      "id": "MP16SBtUkWyh",
      "execution_count": 130,
      "outputs": [
        {
          "output_type": "stream",
          "name": "stdout",
          "text": [
            "10\n",
            "10\n"
          ]
        }
      ]
    },
    {
      "cell_type": "code",
      "source": [
        "# Plot mean predicted probability against mean actual outcome\n",
        "fig, ax = plt.subplots()\n",
        "plt.scatter(predicted_mean,true_mean)\n",
        "\n",
        "# (I referenced a Stack Overflow answer on adding y=x to a matplotlib plot: https://stackoverflow.com/questions/25497402/adding-y-x-to-a-matplotlib-scatter-plot-if-i-havent-kept-track-of-all-the-data)\n",
        "lims = [\n",
        "    np.min([ax.get_xlim(), ax.get_ylim()]),  # min of both axes\n",
        "    np.max([ax.get_xlim(), ax.get_ylim()]),  # max of both axes\n",
        "]\n",
        "ax.plot(lims, lims, 'k-', alpha=0.75, zorder=0)\n",
        "ax.set_aspect('equal')\n",
        "ax.set_xlim(lims)\n",
        "ax.set_ylim(lims)\n",
        "\n",
        "plt.xlabel('Predicted Probability')\n",
        "plt.ylabel('Actual Probability')\n",
        "plt.show()"
      ],
      "metadata": {
        "colab": {
          "base_uri": "https://localhost:8080/",
          "height": 282
        },
        "id": "AcJK2R-cd9Iw",
        "outputId": "10fb3e33-f7ac-433a-e475-1c79e247f27d"
      },
      "id": "AcJK2R-cd9Iw",
      "execution_count": 131,
      "outputs": [
        {
          "output_type": "display_data",
          "data": {
            "text/plain": [
              "<Figure size 432x288 with 1 Axes>"
            ],
            "image/png": "[encoded data removed]"
          },
          "metadata": {
            "needs_background": "light"
          }
        }
      ]
    },
    {
      "cell_type": "markdown",
      "metadata": {
        "id": "frozen-apollo"
      },
      "source": [
        "**h. Using the test set, compute the fraction of observations which have lower than a 2% model-predicted probability of finding a weapon for white, black, Hispanic, and Asian pedestrians. Stops below this threshold are extremely unlikely to have resulted in finding a weapon, arguably violating the Fourth Amendment. Repeat this for 20 thresholds evenly spaced between 1% and 5%. Make a graph where the x-axis is the threshold, and the y-axis is the fraction of stops falling below that threshold, with one line for each race group. Explain what you observe. Do you think this graph provides evidence for Fourteenth Amendment violations (racial discrimination)? (10 points)**"
      ],
      "id": "frozen-apollo"
    },
    {
      "cell_type": "code",
      "execution_count": 134,
      "metadata": {
        "id": "_Zj-pRkFactj"
      },
      "outputs": [],
      "source": [
        "# Extract suspect_race from dataframe\n",
        "df2_race = df2_dropped['suspect_race'].loc[sqf_test_copy.index.values]"
      ],
      "id": "_Zj-pRkFactj"
    },
    {
      "cell_type": "code",
      "source": [
        "# Calcualte the fraction of observations that have lower than threshold probability of finding a weapon\n",
        "def calculateFraction(race, threshold):\n",
        "  num_stops = df2_race[df2_race == race].shape[0] # Total number of stops for a certain race\n",
        "  stops = test_true[test_true['Predicted Value'] < threshold] # Filter for those predictions below threshold\n",
        "  suspect_race = df2_dropped.loc[stops.index, 'suspect_race']\n",
        "  race_based_stop = suspect_race[suspect_race == race].shape[0] # Stops that have lower than threshold percentage of predicted probabability of finding a weapon\n",
        "  fraction = race_based_stop/ num_stops\n",
        "  return fraction"
      ],
      "metadata": {
        "id": "cd-JNZFkqlYn"
      },
      "id": "cd-JNZFkqlYn",
      "execution_count": 136,
      "outputs": []
    },
    {
      "cell_type": "code",
      "source": [
        "# Fraction of stops with lower than 2% threshold probabability of finding a weapon. Breakdown by race\n",
        "print(\"White: \", calculateFraction('white', 0.02))\n",
        "print(\"Black: \", calculateFraction('black', 0.02) )\n",
        "print(\"Hispanic: \", calculateFraction('hispanic', 0.02) )\n",
        "print(\"Asian: \", calculateFraction('asian', 0.02) )"
      ],
      "metadata": {
        "colab": {
          "base_uri": "https://localhost:8080/"
        },
        "id": "sszpmMq1txxZ",
        "outputId": "fd6d996e-bceb-4e08-cd84-328f8063a21c"
      },
      "id": "sszpmMq1txxZ",
      "execution_count": 137,
      "outputs": [
        {
          "output_type": "stream",
          "name": "stdout",
          "text": [
            "White:  0.06896551724137931\n",
            "Black:  0.5672601384767557\n",
            "Hispanic:  0.305\n",
            "Asian:  0.38372093023255816\n"
          ]
        }
      ]
    },
    {
      "cell_type": "code",
      "source": [
        "# Find 20 thresholds evenly spaced between 1% and 5%\n",
        "thresholds = np.linspace(0.01, 0.05, num=20, endpoint=True)\n",
        "\n",
        "white_frac = []\n",
        "black_frac = []\n",
        "hispanic_frac = []\n",
        "asian_frac = []\n",
        "\n",
        "# Calculate fraction for each threshold value and append the value to arrays\n",
        "for thres in thresholds:\n",
        "  white_frac.append(calculateFraction('white', thres))\n",
        "  black_frac.append(calculateFraction('black', thres))\n",
        "  hispanic_frac.append(calculateFraction('hispanic', thres))\n",
        "  asian_frac.append(calculateFraction('asian', thres))\n",
        "\n",
        "# Plot the fraction of stops falling below threshol against threshold, with one line for each race group\n",
        "fig, ax = plt.subplots()\n",
        "ax.plot(thresholds, white_frac, label = \"White\")\n",
        "ax.plot(thresholds, black_frac, label = \"Black\")\n",
        "ax.plot(thresholds, hispanic_frac, label = \"Hispanic\")\n",
        "ax.plot(thresholds, asian_frac, label = \"Asian\")\n",
        "ax.set_xlabel(\"Threshold Value\")\n",
        "ax.set_ylabel(\"Fraction of Stops Below Threshold\")\n",
        "ax.legend()"
      ],
      "metadata": {
        "colab": {
          "base_uri": "https://localhost:8080/",
          "height": 296
        },
        "id": "7aqXwVjoubnK",
        "outputId": "4f731cf0-74ae-4c28-8fb0-9cb66227c27c"
      },
      "id": "7aqXwVjoubnK",
      "execution_count": 140,
      "outputs": [
        {
          "output_type": "execute_result",
          "data": {
            "text/plain": [
              "<matplotlib.legend.Legend at 0x7fecce704610>"
            ]
          },
          "metadata": {},
          "execution_count": 140
        },
        {
          "output_type": "display_data",
          "data": {
            "text/plain": [
              "<Figure size 432x288 with 1 Axes>"
            ],
            "image/png": "[encoded data removed]"
          },
          "metadata": {
            "needs_background": "light"
          }
        }
      ]
    },
    {
      "cell_type": "markdown",
      "metadata": {
        "id": "DutLGn3nactj"
      },
      "source": [
        "From the graph, we see that White pedestrians have the lowest rate of being stopped, and Black pedestrians have the highest rate of being stopped regardless of the threshold. <br>\n",
        "This graph is evidence for Fourteenth Amendment violations (racial discrimination) for the following reasons: <br>\n",
        "1) No matter if the threshold is 2% or 5%, White pedestrians have a much lower rate of being stopped and frisked compared to other populations. When we look closely at the 2% threshold, all three other races have almost double or triple the fraction of being stopped, showing that the police's decision to stop and frisk is highly racially motivated and biased towards White population. <br>\n",
        "2) As the threshold value increases, the line for White pedestrains increases at a much slower rate compared to Black and Hispanic populations. This indicates that even as the probability of finding a weapon becomes higher, police is still less inclined to stop White population and more willing to stop Black, Hispanic, and Asian population. "
      ],
      "id": "DutLGn3nactj"
    },
    {
      "cell_type": "markdown",
      "metadata": {
        "id": "organized-luxembourg"
      },
      "source": [
        "**i. The analysis you have performed in the second part of this assignment is very similar to the analysis in [this paper](https://5harad.com/papers/stop-and-frisk.pdf). Read the paper and write a few sentences about their main conclusions. (5 points)**"
      ],
      "id": "organized-luxembourg"
    },
    {
      "cell_type": "markdown",
      "metadata": {
        "id": "6wMU2Jzse3Dm"
      },
      "source": [
        "The paper draws these main conclusions: <br>\n",
        "1) The authors of the paper found out that in \"43% of the CPW stops between 2011 and 2012, there was only 1% chance of finding a weapon on the suspect\", suggesting that individuals were often stopped with little evidence of criminal activity. <br>\n",
        "2) Black and Hispanics were disproportionately involved in low hit rate stops compared to Whites, even after correcting for factors such as highly localized policing tactics. <br>\n",
        "3) The authors suggest that one can \"recover 50% of weapons by conducting only the 6% of CPW stops with the highest ex ante hit rate, and 90% of weapons by conducting 58% of CPW stops\". They also developed a set of stop heuristics that can help police officers achieve such statistical efficacy via a simple scoring rule."
      ],
      "id": "6wMU2Jzse3Dm"
    }
  ],
  "metadata": {
    "colab": {
      "collapsed_sections": [],
      "provenance": []
    },
    "kernelspec": {
      "display_name": "Python 3",
      "language": "python",
      "name": "python3"
    },
    "language_info": {
      "codemirror_mode": {
        "name": "ipython",
        "version": 3
      },
      "file_extension": ".py",
      "mimetype": "text/x-python",
      "name": "python",
      "nbconvert_exporter": "python",
      "pygments_lexer": "ipython3",
      "version": "3.8.5"
    }
  },
  "nbformat": 4,
  "nbformat_minor": 5
}